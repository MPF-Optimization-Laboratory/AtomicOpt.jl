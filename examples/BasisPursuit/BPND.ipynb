{
 "cells": [
  {
   "cell_type": "code",
   "execution_count": 1,
   "id": "75c5b3ac",
   "metadata": {},
   "outputs": [
    {
     "name": "stderr",
     "output_type": "stream",
     "text": [
      "\u001b[32m\u001b[1m  Activating\u001b[22m\u001b[39m environment at `~/projects/def-mpf/zhenan/julia/dev/AtomicOpt/Project.toml`\n"
     ]
    }
   ],
   "source": [
    "using Pkg\n",
    "Pkg.activate(\"/home/zhenan/projects/def-mpf/zhenan/julia/dev/AtomicOpt\")"
   ]
  },
  {
   "cell_type": "code",
   "execution_count": 19,
   "id": "f4652ca3",
   "metadata": {},
   "outputs": [],
   "source": [
    "using Revise\n",
    "using AtomicOpt\n",
    "using LinearAlgebra\n",
    "using SparseArrays\n",
    "using Printf\n",
    "using Arpack\n",
    "using LinearMaps\n",
    "using FFTW\n",
    "using Wavelets\n",
    "import Random: randperm"
   ]
  },
  {
   "cell_type": "markdown",
   "id": "4c6178b8",
   "metadata": {},
   "source": [
    "## Sparco Problem 2: blocksig"
   ]
  },
  {
   "cell_type": "code",
   "execution_count": 55,
   "id": "2bee1631",
   "metadata": {},
   "outputs": [
    {
     "data": {
      "text/plain": [
       "atomic set  : one-norm ball\n",
       "description : { x ∈ ℝⁿ | ||x||₁ ≤ 1 }\n",
       "parameters  : n = 1024; rank = 71"
      ]
     },
     "execution_count": 55,
     "metadata": {},
     "output_type": "execute_result"
    }
   ],
   "source": [
    "m = 1024\n",
    "n = 1024\n",
    "lines = readlines(\"./prob2.txt\", keep=true)\n",
    "b = Vector{Float64}()\n",
    "for line in lines\n",
    "    push!(b, parse(Float64, line))\n",
    "end\n",
    "α = (norm(b)*1e-3)^2/2\n",
    "M = LinearMap(x->idwt(x, wavelet(WT.haar), 5), y->dwt(y, wavelet(WT.haar), 5), 1024, 1024)\n",
    "k = 71\n",
    "A = OneBall(n, k)"
   ]
  },
  {
   "cell_type": "code",
   "execution_count": 56,
   "id": "ab9b0788",
   "metadata": {},
   "outputs": [
    {
     "name": "stdout",
     "output_type": "stream",
     "text": [
      "\n",
      "  -------------------------------------------------------------------------\n",
      "  Polar Level Set Method\n",
      "  -------------------------------------------------------------------------\n",
      "  number of variables       1024         number of constraints    1024\n",
      "  feasibility tolerance  7.99e-05         α                    3.11e-03\n",
      "  max iterations             100 \n",
      "  -------------------------------------------------------------------------\n",
      "  Major      Minor        u-α        ℓ-α        gap          τ         infeas-α  Subproblem\n",
      "      1          5   1.27e+03   1.99e+02   1.07e+03   1.06e+02      -1.19e-15   feasible\n",
      "  -------------------------------------------------------------------------\n",
      "  residual (abs)          7.9e-02         optimality gap (abs)   1.07e+03\n",
      "  residual (rel)          9.9e-04         optimality gap (rel)   1.34e+01\n",
      "  total iterations              5                                        \n",
      "  -------------------------------------------------------------------------\n"
     ]
    }
   ],
   "source": [
    "sol = level_set(M, b, A, α = α, tol=1e-6, maxIts=100); "
   ]
  },
  {
   "cell_type": "code",
   "execution_count": 57,
   "id": "4a2c1e82",
   "metadata": {},
   "outputs": [
    {
     "data": {
      "text/plain": [
       "0.0009999999999997888"
      ]
     },
     "execution_count": 57,
     "metadata": {},
     "output_type": "execute_result"
    }
   ],
   "source": [
    "x = constructPrimal(sol)\n",
    "norm(M*x - b) / norm(b)"
   ]
  },
  {
   "cell_type": "markdown",
   "id": "82cddd41",
   "metadata": {},
   "source": [
    "## Sparco Problem 3: cosspike"
   ]
  },
  {
   "cell_type": "code",
   "execution_count": 41,
   "id": "f42821cf",
   "metadata": {},
   "outputs": [
    {
     "data": {
      "text/plain": [
       "atomic set  : one-norm ball\n",
       "description : { x ∈ ℝⁿ | ||x||₁ ≤ 1 }\n",
       "parameters  : n = 2048; rank = 113"
      ]
     },
     "execution_count": 41,
     "metadata": {},
     "output_type": "execute_result"
    }
   ],
   "source": [
    "m = 1024\n",
    "n = 2048\n",
    "lines = readlines(\"./prob3.txt\", keep=true)\n",
    "b = Vector{Float64}()\n",
    "for line in lines\n",
    "    push!(b, parse(Float64, line))\n",
    "end\n",
    "α = (norm(b)*1e-3)^2/2\n",
    "M1 = LinearMap(x->idct(x), y->dct(y), 1024, 1024)\n",
    "M2 = I(1024)\n",
    "M = hcat(M1, M2)\n",
    "k = 113\n",
    "A = OneBall(n, k)"
   ]
  },
  {
   "cell_type": "code",
   "execution_count": 53,
   "id": "e0225fe7",
   "metadata": {},
   "outputs": [
    {
     "name": "stdout",
     "output_type": "stream",
     "text": [
      "\n",
      "  -------------------------------------------------------------------------\n",
      "  Polar Level Set Method\n",
      "  -------------------------------------------------------------------------\n",
      "  number of variables       2048         number of constraints    1024\n",
      "  feasibility tolerance  1.03e-04         α                    5.23e-03\n",
      "  max iterations           20000 \n",
      "  -------------------------------------------------------------------------\n",
      "  Major      Minor        u-α        ℓ-α        gap          τ         infeas-α  Subproblem\n",
      "      1          2   1.62e+03   8.56e+02   7.67e+02   5.77e+01       5.01e+01   suboptimal\n",
      "      2          2   8.85e+02   8.85e+02   1.14e-13   7.95e+01       4.42e+01   suboptimal\n",
      "      3          2   2.41e+02   2.41e+02   2.27e-13   1.10e+02       1.65e+01   suboptimal\n",
      "      4          2   8.51e+01   8.51e+01   -1.99e-13   1.29e+02       3.61e+00   suboptimal\n",
      "      5          8   6.27e+01   1.52e+01   4.75e+01   1.51e+02       2.65e+00   suboptimal\n",
      "      6          5   5.64e+01   7.61e+00   4.87e+01   1.58e+02       2.46e+00   suboptimal\n",
      "      7          4   5.10e+01   9.70e+00   4.13e+01   1.62e+02       2.46e+00   suboptimal\n",
      "      8         11   4.60e+01   9.62e+00   3.64e+01   1.68e+02       2.46e+00   suboptimal\n",
      "      9          7   4.18e+01   1.43e-01   4.16e+01   1.74e+02       2.45e+00   suboptimal\n",
      "     10         30   3.90e+01   1.60e+00   3.74e+01   1.74e+02       2.28e+00   suboptimal\n",
      "     11          4   3.75e+01   2.81e+00   3.47e+01   1.75e+02       2.06e+00   suboptimal\n",
      "     12          4   3.53e+01   6.16e+00   2.91e+01   1.77e+02       1.91e+00   suboptimal\n",
      "     13         23   3.15e+01   2.74e+00   2.87e+01   1.82e+02       1.78e+00   suboptimal\n",
      "     14         14   2.91e+01   1.21e-01   2.89e+01   1.84e+02       1.78e+00   suboptimal\n",
      "     15          9   2.86e+01   1.59e+00   2.70e+01   1.85e+02       1.78e+00   suboptimal\n",
      "     16         33   2.64e+01   5.23e+00   2.12e+01   1.86e+02       1.78e+00   suboptimal\n",
      "     17         53   2.26e+01   9.63e-01   2.16e+01   1.91e+02       1.78e+00   suboptimal\n",
      "     18         12   2.16e+01   5.79e-01   2.10e+01   1.92e+02       1.78e+00   suboptimal\n",
      "     19          4   2.10e+01   3.23e+00   1.78e+01   1.93e+02       1.78e+00   suboptimal\n",
      "     20          7   1.93e+01   1.03e+00   1.83e+01   1.97e+02       1.78e+00   suboptimal\n",
      "     21         35   1.78e+01   1.42e+00   1.64e+01   1.98e+02       1.32e+00   suboptimal\n",
      "     22         72   1.56e+01   4.72e-01   1.51e+01   2.00e+02       1.25e+00   suboptimal\n",
      "     23         20   1.50e+01   2.92e-01   1.47e+01   2.01e+02       1.25e+00   suboptimal\n",
      "     24          7   1.47e+01   5.48e-01   1.41e+01   2.01e+02       1.19e+00   suboptimal\n",
      "     25          8   1.41e+01   7.71e-01   1.34e+01   2.02e+02       1.14e+00   suboptimal\n",
      "     26          9   1.35e+01   4.95e-02   1.34e+01   2.03e+02       1.02e+00   suboptimal\n",
      "     27         21   1.32e+01   6.83e-01   1.25e+01   2.03e+02       5.72e-01   suboptimal\n",
      "     28         42   1.24e+01   6.59e-01   1.17e+01   2.04e+02       5.72e-01   suboptimal\n",
      "     29         18   1.17e+01   2.14e-01   1.15e+01   2.05e+02       5.70e-01   suboptimal\n",
      "     30         10   1.15e+01   7.31e-01   1.08e+01   2.06e+02       5.70e-01   suboptimal\n",
      "     31         21   1.08e+01   1.49e-01   1.07e+01   2.07e+02       5.70e-01   suboptimal\n",
      "     32          4   1.07e+01   8.22e-01   9.84e+00   2.07e+02       5.09e-01   suboptimal\n",
      "     33         13   9.98e+00   1.86e-01   9.80e+00   2.09e+02       5.09e-01   suboptimal\n",
      "     34         13   9.76e+00   2.25e-01   9.53e+00   2.09e+02       5.09e-01   suboptimal\n",
      "     35          7   9.54e+00   3.28e-01   9.21e+00   2.09e+02       5.09e-01   suboptimal\n",
      "     36          8   9.24e+00   1.21e+00   8.03e+00   2.10e+02       5.09e-01   suboptimal\n",
      "     37         62   8.22e+00   2.27e-01   7.99e+00   2.12e+02       5.09e-01   suboptimal\n",
      "     38         17   7.96e+00   4.85e-02   7.92e+00   2.13e+02       5.09e-01   suboptimal\n",
      "     39         17   7.86e+00   3.30e-01   7.53e+00   2.13e+02       5.09e-01   suboptimal\n",
      "     40         40   7.45e+00   3.75e-01   7.08e+00   2.14e+02       5.09e-01   suboptimal\n",
      "     41         35   7.04e+00   2.41e-01   6.80e+00   2.14e+02       4.85e-01   suboptimal\n",
      "     42         14   6.80e+00   9.10e-02   6.71e+00   2.15e+02       4.85e-01   suboptimal\n",
      "     43          7   6.71e+00   2.69e-01   6.44e+00   2.15e+02       4.85e-01   suboptimal\n",
      "     44         32   6.40e+00   7.26e-02   6.32e+00   2.16e+02       4.85e-01   suboptimal\n",
      "     45          4   6.33e+00   2.58e-01   6.07e+00   2.16e+02       4.85e-01   suboptimal\n",
      "     46         12   6.09e+00   1.11e-01   5.98e+00   2.17e+02       3.20e-01   suboptimal\n",
      "     47         16   5.96e+00   5.35e-02   5.91e+00   2.17e+02       2.81e-01   suboptimal\n",
      "     48          1   5.92e+00   7.24e-02   5.84e+00   2.17e+02       2.81e-01   suboptimal\n",
      "     49          4   5.85e+00   2.18e-01   5.63e+00   2.17e+02       2.80e-01   suboptimal\n",
      "     50         17   5.63e+00   3.17e-02   5.60e+00   2.18e+02       2.80e-01   suboptimal\n",
      "     51         31   5.53e+00   4.37e-01   5.09e+00   2.18e+02       2.80e-01   suboptimal\n",
      "     52         48   5.10e+00   1.09e-02   5.09e+00   2.19e+02       2.80e-01   suboptimal\n",
      "     53         18   5.06e+00   1.25e-01   4.93e+00   2.19e+02       2.80e-01   suboptimal\n",
      "     54         23   4.91e+00   4.65e-02   4.87e+00   2.19e+02       2.80e-01   suboptimal\n",
      "     55         10   4.86e+00   5.14e-02   4.81e+00   2.19e+02       2.80e-01   suboptimal\n",
      "     56          4   4.81e+00   1.69e-03   4.81e+00   2.20e+02       2.80e-01   suboptimal\n",
      "     57          6   4.80e+00   1.33e-01   4.67e+00   2.20e+02       2.80e-01   suboptimal\n",
      "     58         17   4.66e+00   1.02e-02   4.65e+00   2.20e+02       2.80e-01   suboptimal\n",
      "     59         12   4.64e+00   5.73e-03   4.63e+00   2.20e+02       2.80e-01   suboptimal\n",
      "     60         15   4.61e+00   3.35e-03   4.61e+00   2.20e+02       2.80e-01   suboptimal\n",
      "     61          3   4.61e+00   8.09e-02   4.52e+00   2.20e+02       2.80e-01   suboptimal\n",
      "     62         28   4.49e+00   8.93e-02   4.40e+00   2.20e+02       2.80e-01   suboptimal\n",
      "     63          5   4.41e+00   7.21e-02   4.34e+00   2.21e+02       2.80e-01   suboptimal\n",
      "     64         10   4.34e+00   3.22e-02   4.30e+00   2.21e+02       2.80e-01   suboptimal\n",
      "     65          1   4.31e+00   4.65e-02   4.26e+00   2.21e+02       2.80e-01   suboptimal\n",
      "     66          7   4.26e+00   1.06e-01   4.15e+00   2.21e+02       2.80e-01   suboptimal\n",
      "     67         11   4.16e+00   6.26e-02   4.10e+00   2.21e+02       2.80e-01   suboptimal\n",
      "     68         10   4.09e+00   1.42e-01   3.95e+00   2.22e+02       2.80e-01   suboptimal\n",
      "     69         50   3.92e+00   3.25e-02   3.89e+00   2.22e+02       2.80e-01   suboptimal\n",
      "     70          7   3.89e+00   4.73e-02   3.84e+00   2.22e+02       2.80e-01   suboptimal\n",
      "     71         10   3.83e+00   1.07e-01   3.73e+00   2.22e+02       2.80e-01   suboptimal\n",
      "     72         11   3.74e+00   3.22e-02   3.70e+00   2.23e+02       2.80e-01   suboptimal\n",
      "     73         34   3.68e+00   2.45e-02   3.65e+00   2.23e+02       2.59e-01   suboptimal\n",
      "     74          1   3.65e+00   1.31e-01   3.52e+00   2.23e+02       2.59e-01   suboptimal\n",
      "     75         59   3.49e+00   3.55e-02   3.46e+00   2.23e+02       2.36e-01   suboptimal\n",
      "     76         13   3.45e+00   3.46e-02   3.42e+00   2.23e+02       2.22e-01   suboptimal\n",
      "     77         22   3.40e+00   4.23e-02   3.36e+00   2.23e+02       2.22e-01   suboptimal\n",
      "     78         13   3.36e+00   8.20e-03   3.35e+00   2.24e+02       2.22e-01   suboptimal\n",
      "     79          9   3.34e+00   2.99e-02   3.31e+00   2.24e+02       2.22e-01   suboptimal\n",
      "     80          4   3.32e+00   9.10e-02   3.22e+00   2.24e+02       2.22e-01   suboptimal\n",
      "     81         53   3.20e+00   3.75e-02   3.16e+00   2.24e+02       2.07e-01   suboptimal\n",
      "     82         13   3.16e+00   4.35e-02   3.11e+00   2.24e+02       2.07e-01   suboptimal\n",
      "     83          7   3.12e+00   1.10e-02   3.10e+00   2.24e+02       2.07e-01   suboptimal\n",
      "     84          3   3.10e+00   3.52e-01   2.75e+00   2.24e+02       2.07e-01   suboptimal\n",
      "     85        444   2.57e+00   2.49e-02   2.54e+00   2.26e+02       2.07e-01   suboptimal\n"
     ]
    },
    {
     "name": "stdout",
     "output_type": "stream",
     "text": [
      "     86         31   2.53e+00   1.21e-02   2.52e+00   2.26e+02       2.07e-01   suboptimal\n",
      "     87         31   2.51e+00   8.50e-04   2.51e+00   2.26e+02       2.07e-01   suboptimal\n",
      "     88         54   2.49e+00   6.21e-03   2.48e+00   2.26e+02       2.07e-01   suboptimal\n",
      "     89          3   2.48e+00   3.04e-02   2.45e+00   2.26e+02       2.07e-01   suboptimal\n",
      "     90         25   2.44e+00   1.11e-02   2.43e+00   2.26e+02       2.07e-01   suboptimal\n",
      "     91         40   2.42e+00   5.94e-02   2.36e+00   2.26e+02       2.07e-01   suboptimal\n",
      "     92         50   2.35e+00   1.93e-02   2.33e+00   2.26e+02       2.07e-01   suboptimal\n",
      "     93         37   2.32e+00   8.09e-03   2.31e+00   2.26e+02       2.07e-01   suboptimal\n",
      "     94         81   2.27e+00   4.28e-02   2.23e+00   2.26e+02       2.07e-01   suboptimal\n",
      "     95         35   2.22e+00   5.55e-03   2.22e+00   2.27e+02       2.07e-01   suboptimal\n",
      "     96          3   2.22e+00   8.31e-02   2.13e+00   2.27e+02       2.07e-01   suboptimal\n",
      "     97         76   2.12e+00   6.13e-03   2.11e+00   2.27e+02       2.07e-01   suboptimal\n",
      "     98        282   2.00e+00   3.33e-01   1.67e+00   2.27e+02       2.07e-01   suboptimal\n",
      "     99        458   1.68e+00   2.20e-01   1.46e+00   2.29e+02       1.89e-01   suboptimal\n",
      "    100       1001   1.39e+00   3.82e-03   1.38e+00   2.30e+02       1.89e-01   suboptimal\n",
      "    101         30   1.38e+00   1.37e-01   1.24e+00   2.30e+02       1.25e-01   suboptimal\n",
      "    102        851   1.16e+00   1.52e-03   1.16e+00   2.31e+02       1.25e-01   suboptimal\n",
      "    103          3   1.16e+00   1.17e-01   1.05e+00   2.31e+02       1.25e-01   suboptimal\n",
      "    104        973   9.89e-01   2.56e-03   9.86e-01   2.32e+02       1.25e-01   suboptimal\n",
      "    105          2   9.87e-01   1.51e-01   8.36e-01   2.32e+02       1.25e-01   suboptimal\n",
      "    106       2566   7.73e-01   4.95e-03   7.68e-01   2.33e+02       1.25e-01   suboptimal\n",
      "    107         19   7.68e-01   2.87e-04   7.68e-01   2.33e+02       1.25e-01   suboptimal\n",
      "    108        147   7.63e-01   9.45e-03   7.53e-01   2.33e+02       1.25e-01   suboptimal\n",
      "    109          2   7.54e-01   3.85e-02   7.15e-01   2.33e+02       1.25e-01   suboptimal\n",
      "    110          3   7.20e-01   1.94e-02   7.01e-01   2.33e+02       1.25e-01   suboptimal\n",
      "    111        806   6.76e-01   1.56e-03   6.75e-01   2.33e+02       1.11e-01   suboptimal\n",
      "    112          1   6.75e-01   1.07e-01   5.68e-01   2.33e+02       1.11e-01   suboptimal\n",
      "    113       2929   5.43e-01   9.38e-03   5.33e-01   2.34e+02       8.66e-02   suboptimal\n",
      "    114        251   5.30e-01   3.68e-03   5.26e-01   2.34e+02       8.66e-02   suboptimal\n",
      "    115         19   5.26e-01   3.70e-03   5.22e-01   2.34e+02       8.66e-02   suboptimal\n",
      "    116        232   5.18e-01   1.09e-02   5.08e-01   2.34e+02       8.66e-02   suboptimal\n",
      "    117          5   5.08e-01   1.79e-03   5.06e-01   2.34e+02       8.66e-02   suboptimal\n",
      "    118        532   4.98e-01   1.23e-02   4.86e-01   2.34e+02       8.66e-02   suboptimal\n",
      "    119        695   4.77e-01   4.84e-03   4.72e-01   2.35e+02       8.66e-02   suboptimal\n",
      "    120          3   4.72e-01   7.59e-02   3.96e-01   2.35e+02       8.66e-02   suboptimal\n",
      "    121       2500   3.95e-01   5.53e-02   3.39e-01   2.35e+02       8.66e-02   suboptimal\n",
      "    122       1969   3.39e-01   5.16e-02   2.88e-01   2.36e+02       8.66e-02   suboptimal\n",
      "    123       1421   2.94e-01   0.00e+00   2.94e-01   2.37e+02       8.66e-02   iterations\n",
      "  -------------------------------------------------------------------------\n",
      "  residual (abs)          4.3e-01         optimality gap (abs)   2.94e-01\n",
      "  residual (rel)          4.2e-03         optimality gap (rel)   2.85e-03\n",
      "  total iterations          20000                                        \n",
      "  -------------------------------------------------------------------------\n"
     ]
    }
   ],
   "source": [
    "sol = level_set(M, b, A, α = α, tol=1e-6, maxIts=20000); "
   ]
  },
  {
   "cell_type": "code",
   "execution_count": 54,
   "id": "159b5c2d",
   "metadata": {},
   "outputs": [
    {
     "data": {
      "text/plain": [
       "0.004191250417466716"
      ]
     },
     "execution_count": 54,
     "metadata": {},
     "output_type": "execute_result"
    }
   ],
   "source": [
    "x = constructPrimal(sol)\n",
    "norm(M*x - b) / norm(b)"
   ]
  },
  {
   "cell_type": "markdown",
   "id": "3224b345",
   "metadata": {},
   "source": [
    "## Sparco Problem 5: gcosspike"
   ]
  },
  {
   "cell_type": "code",
   "execution_count": 59,
   "id": "c134b166",
   "metadata": {},
   "outputs": [
    {
     "data": {
      "text/plain": [
       "atomic set  : one-norm ball\n",
       "description : { x ∈ ℝⁿ | ||x||₁ ≤ 1 }\n",
       "parameters  : n = 2048; rank = 112"
      ]
     },
     "execution_count": 59,
     "metadata": {},
     "output_type": "execute_result"
    }
   ],
   "source": [
    "m = 300\n",
    "n = 2048\n",
    "lines = readlines(\"./prob5_obs.txt\", keep=true)\n",
    "b = Vector{Float64}()\n",
    "for line in lines\n",
    "    push!(b, parse(Float64, line))\n",
    "end\n",
    "α = (norm(b)*1e-3)^2/2\n",
    "lines = readlines(\"./prob5_gaussian.txt\", keep=true)\n",
    "M0 = zeros(300, 1024)\n",
    "for (i, line) in enumerate(lines)\n",
    "    info = split(line, \",\")\n",
    "    for j in 1:1024\n",
    "        M0[i,j] = parse(Float64, info[j])\n",
    "    end\n",
    "end\n",
    "M1 = LinearMap(x->idct(x), y->dct(y), 1024, 1024)\n",
    "M2 = I(1024)\n",
    "M = M0*hcat(M1, M2)\n",
    "k = 112\n",
    "A = OneBall(n, k)"
   ]
  },
  {
   "cell_type": "code",
   "execution_count": 60,
   "id": "1d1ede22",
   "metadata": {},
   "outputs": [
    {
     "name": "stdout",
     "output_type": "stream",
     "text": [
      "\n",
      "  -------------------------------------------------------------------------\n",
      "  Polar Level Set Method\n",
      "  -------------------------------------------------------------------------\n",
      "  number of variables       2048         number of constraints     300\n",
      "  feasibility tolerance  8.47e-05         α                    3.50e-03\n",
      "  max iterations           20000 \n",
      "  -------------------------------------------------------------------------\n",
      "  Major      Minor        u-α        ℓ-α        gap          τ         infeas-α  Subproblem\n",
      "      1          3   1.03e+03   1.03e+03   2.27e-13   5.94e+01       1.91e+01   suboptimal\n",
      "      2          2   2.71e+02   1.36e+02   1.36e+02   9.81e+01       1.55e+01   suboptimal\n",
      "      3          2   1.56e+02   1.29e+02   2.69e+01   1.09e+02       1.00e+01   suboptimal\n",
      "      4          2   6.18e+01   2.52e+01   3.67e+01   1.23e+02       5.13e+00   suboptimal\n",
      "      5          3   4.26e+01   2.23e+01   2.04e+01   1.29e+02       3.99e+00   suboptimal\n",
      "      6          7   2.79e+01   1.04e+01   1.74e+01   1.38e+02       3.99e+00   suboptimal\n",
      "      7          7   2.03e+01   2.54e+00   1.78e+01   1.43e+02       3.99e+00   suboptimal\n",
      "      8          5   1.82e+01   1.73e+00   1.65e+01   1.45e+02       3.99e+00   suboptimal\n",
      "      9          4   1.67e+01   7.20e-01   1.60e+01   1.46e+02       3.99e+00   suboptimal\n",
      "     10          3   1.60e+01   4.14e-01   1.56e+01   1.47e+02       3.99e+00   suboptimal\n",
      "     11          2   1.56e+01   5.19e+00   1.04e+01   1.47e+02       3.99e+00   suboptimal\n",
      "     12         10   1.21e+01   4.00e-02   1.20e+01   1.52e+02       3.99e+00   suboptimal\n",
      "     13          1   1.20e+01   4.42e-01   1.16e+01   1.52e+02       3.99e+00   suboptimal\n",
      "     14          3   1.16e+01   1.58e+00   1.00e+01   1.52e+02       3.99e+00   suboptimal\n",
      "     15          7   1.03e+01   4.32e-01   9.89e+00   1.54e+02       3.99e+00   suboptimal\n",
      "     16         12   9.87e+00   1.96e-01   9.68e+00   1.55e+02       3.99e+00   suboptimal\n",
      "     17          4   9.68e+00   8.96e-01   8.79e+00   1.55e+02       3.99e+00   suboptimal\n",
      "     18          6   8.89e+00   1.11e+00   7.78e+00   1.56e+02       3.99e+00   suboptimal\n",
      "     19          6   7.97e+00   7.02e-01   7.26e+00   1.57e+02       3.99e+00   suboptimal\n",
      "     20         13   7.35e+00   8.60e-01   6.49e+00   1.58e+02       3.99e+00   suboptimal\n",
      "     21          6   6.61e+00   1.20e-02   6.60e+00   1.59e+02       3.99e+00   suboptimal\n",
      "     22          1   6.60e+00   4.89e-02   6.55e+00   1.59e+02       3.99e+00   suboptimal\n",
      "     23          1   6.55e+00   9.29e-01   5.62e+00   1.59e+02       3.31e+00   suboptimal\n",
      "     24         32   5.75e+00   8.14e-01   4.93e+00   1.61e+02       3.31e+00   suboptimal\n",
      "     25         10   5.07e+00   1.21e-01   4.95e+00   1.62e+02       3.31e+00   suboptimal\n",
      "     26          6   4.95e+00   6.92e-01   4.26e+00   1.62e+02       3.31e+00   suboptimal\n",
      "     27         27   4.36e+00   4.47e-01   3.91e+00   1.64e+02       3.31e+00   suboptimal\n",
      "     28          7   3.99e+00   1.24e-02   3.98e+00   1.65e+02       3.31e+00   suboptimal\n",
      "     29          6   3.97e+00   1.11e-02   3.96e+00   1.65e+02       3.31e+00   suboptimal\n",
      "     30         11   3.95e+00   8.36e-02   3.87e+00   1.65e+02       3.31e+00   suboptimal\n",
      "     31         12   3.86e+00   8.84e-01   2.98e+00   1.65e+02       3.31e+00   suboptimal\n",
      "     32         67   3.15e+00   1.57e-01   3.00e+00   1.67e+02       3.31e+00   suboptimal\n",
      "     33         38   2.99e+00   8.90e-01   2.10e+00   1.67e+02       3.31e+00   suboptimal\n",
      "     34         72   2.34e+00   1.43e-01   2.20e+00   1.69e+02       3.31e+00   suboptimal\n",
      "     35         31   2.20e+00   4.81e-02   2.16e+00   1.70e+02       3.16e+00   suboptimal\n",
      "     36          3   2.16e+00   3.54e-01   1.80e+00   1.70e+02       3.16e+00   suboptimal\n",
      "     37         43   1.86e+00   5.18e-02   1.81e+00   1.71e+02       3.16e+00   suboptimal\n",
      "     38         45   1.80e+00   3.88e-01   1.41e+00   1.71e+02       3.16e+00   suboptimal\n",
      "     39        104   1.48e+00   1.93e-01   1.28e+00   1.73e+02       3.16e+00   suboptimal\n",
      "     40        109   1.29e+00   1.46e-01   1.15e+00   1.74e+02       3.16e+00   suboptimal\n",
      "     41         98   1.15e+00   1.75e-01   9.79e-01   1.74e+02       3.15e+00   suboptimal\n",
      "     42         78   1.00e+00   2.51e-02   9.76e-01   1.75e+02       3.15e+00   suboptimal\n",
      "     43         61   9.71e-01   2.85e-02   9.42e-01   1.75e+02       3.15e+00   suboptimal\n",
      "     44         13   9.43e-01   4.83e-02   8.95e-01   1.75e+02       3.15e+00   suboptimal\n",
      "     45         32   8.98e-01   2.09e-01   6.89e-01   1.76e+02       3.15e+00   suboptimal\n",
      "     46        159   7.66e-01   1.45e-01   6.22e-01   1.77e+02       3.15e+00   suboptimal\n",
      "     47        186   6.42e-01   2.68e-02   6.15e-01   1.78e+02       1.48e+00   suboptimal\n",
      "     48         80   6.13e-01   6.07e-03   6.07e-01   1.78e+02       1.48e+00   suboptimal\n",
      "     49         24   6.06e-01   3.39e-02   5.72e-01   1.78e+02       1.48e+00   suboptimal\n",
      "     50         85   5.72e-01   5.46e-02   5.18e-01   1.78e+02       1.14e+00   suboptimal\n",
      "     51        131   5.19e-01   3.80e-02   4.81e-01   1.79e+02       1.14e+00   suboptimal\n",
      "     52         99   4.81e-01   5.12e-02   4.30e-01   1.79e+02       1.14e+00   suboptimal\n",
      "     53         88   4.36e-01   1.16e-02   4.24e-01   1.79e+02       1.14e+00   suboptimal\n",
      "     54         45   4.24e-01   1.17e-02   4.12e-01   1.80e+02       1.14e+00   suboptimal\n",
      "     55         53   4.12e-01   8.86e-02   3.23e-01   1.80e+02       1.14e+00   suboptimal\n",
      "     56        233   3.58e-01   4.40e-03   3.54e-01   1.80e+02       1.14e+00   suboptimal\n",
      "     57         20   3.54e-01   1.50e-02   3.39e-01   1.81e+02       1.14e+00   suboptimal\n",
      "     58        135   3.38e-01   2.91e-02   3.08e-01   1.81e+02       1.14e+00   suboptimal\n",
      "     59        338   3.06e-01   1.38e-02   2.93e-01   1.81e+02       6.71e-01   suboptimal\n",
      "     60        133   2.92e-01   3.99e-02   2.52e-01   1.81e+02       6.71e-01   suboptimal\n",
      "     61        418   2.52e-01   2.35e-03   2.49e-01   1.82e+02       6.71e-01   suboptimal\n",
      "     62        207   2.47e-01   1.28e-02   2.34e-01   1.82e+02       6.71e-01   suboptimal\n",
      "     63        262   2.33e-01   1.29e-02   2.20e-01   1.82e+02       6.71e-01   suboptimal\n",
      "     64        183   2.19e-01   2.46e-02   1.94e-01   1.82e+02       6.71e-01   suboptimal\n",
      "     65        792   1.91e-01   1.88e-02   1.73e-01   1.82e+02       6.71e-01   suboptimal\n",
      "     66        472   1.72e-01   1.77e-02   1.54e-01   1.83e+02       6.71e-01   suboptimal\n",
      "     67        431   1.55e-01   7.35e-03   1.47e-01   1.83e+02       6.71e-01   suboptimal\n",
      "     68        157   1.47e-01   2.07e-04   1.47e-01   1.83e+02       6.71e-01   suboptimal\n",
      "     69          1   1.47e-01   8.19e-03   1.39e-01   1.83e+02       6.71e-01   suboptimal\n",
      "     70        486   1.37e-01   8.87e-03   1.28e-01   1.83e+02       6.34e-01   suboptimal\n",
      "     71        374   1.28e-01   1.40e-02   1.14e-01   1.83e+02       6.28e-01   suboptimal\n",
      "     72        478   1.13e-01   5.45e-03   1.08e-01   1.84e+02       6.28e-01   suboptimal\n",
      "     73        418   1.07e-01   4.29e-03   1.02e-01   1.84e+02       6.28e-01   suboptimal\n",
      "     74        118   1.02e-01   8.49e-03   9.38e-02   1.84e+02       6.28e-01   suboptimal\n",
      "     75        880   9.22e-02   1.21e-02   8.02e-02   1.84e+02       6.28e-01   suboptimal\n",
      "     76       1157   8.00e-02   1.09e-02   6.91e-02   1.84e+02       3.58e-01   suboptimal\n",
      "     77        781   6.96e-02   6.03e-03   6.35e-02   1.85e+02       3.58e-01   suboptimal\n",
      "     78        718   6.30e-02   4.45e-03   5.86e-02   1.85e+02       3.58e-01   suboptimal\n",
      "     79        695   5.80e-02   5.47e-03   5.25e-02   1.85e+02       3.58e-01   suboptimal\n",
      "     80        948   5.18e-02   4.06e-03   4.77e-02   1.85e+02       3.58e-01   suboptimal\n",
      "     81        992   4.71e-02   5.18e-03   4.19e-02   1.85e+02       3.58e-01   suboptimal\n",
      "     82       2465   4.05e-02   3.91e-03   3.66e-02   1.85e+02       3.58e-01   suboptimal\n",
      "     83       1553   3.59e-02   1.09e-03   3.48e-02   1.85e+02       3.58e-01   suboptimal\n",
      "     84        701   3.45e-02   1.88e-03   3.26e-02   1.85e+02       3.58e-01   suboptimal\n",
      "     85        886   3.23e-02   1.55e-04   3.21e-02   1.86e+02       3.58e-01   suboptimal\n"
     ]
    },
    {
     "name": "stdout",
     "output_type": "stream",
     "text": [
      "     86        345   3.20e-02   1.47e-03   3.05e-02   1.86e+02       3.58e-01   suboptimal\n",
      "     87        258   3.05e-02   0.00e+00   3.05e-02   1.86e+02       3.58e-01   iterations\n",
      "  -------------------------------------------------------------------------\n",
      "  residual (abs)          8.5e-01         optimality gap (abs)   3.05e-02\n",
      "  residual (rel)          1.0e-02         optimality gap (rel)   3.60e-04\n",
      "  total iterations          20000                                        \n",
      "  -------------------------------------------------------------------------\n"
     ]
    }
   ],
   "source": [
    "sol = level_set(M, b, A, α = α, tol=1e-6, maxIts=20000); "
   ]
  },
  {
   "cell_type": "code",
   "execution_count": 61,
   "id": "e9aee60d",
   "metadata": {},
   "outputs": [
    {
     "data": {
      "text/plain": [
       "0.01015827576293228"
      ]
     },
     "execution_count": 61,
     "metadata": {},
     "output_type": "execute_result"
    }
   ],
   "source": [
    "x = constructPrimal(sol)\n",
    "norm(M*x - b) / norm(b)"
   ]
  },
  {
   "cell_type": "markdown",
   "id": "7d70fb00",
   "metadata": {},
   "source": [
    "## Sparco Problem 7: sgnspike"
   ]
  },
  {
   "cell_type": "code",
   "execution_count": 62,
   "id": "f3610960",
   "metadata": {},
   "outputs": [
    {
     "data": {
      "text/plain": [
       "atomic set  : one-norm ball\n",
       "description : { x ∈ ℝⁿ | ||x||₁ ≤ 1 }\n",
       "parameters  : n = 2560; rank = 20"
      ]
     },
     "execution_count": 62,
     "metadata": {},
     "output_type": "execute_result"
    }
   ],
   "source": [
    "m = 600\n",
    "n = 2560\n",
    "lines = readlines(\"./prob7_obs.txt\", keep=true)\n",
    "b = Vector{Float64}()\n",
    "for line in lines\n",
    "    push!(b, parse(Float64, line))\n",
    "end\n",
    "α = (norm(b)*1e-3)^2/2\n",
    "lines = readlines(\"./prob7_gaussian.txt\", keep=true)\n",
    "M = zeros(m, n)\n",
    "for (i, line) in enumerate(lines)\n",
    "    info = split(line, \",\")\n",
    "    for j in 1:n\n",
    "        M[i,j] = parse(Float64, info[j])\n",
    "    end\n",
    "end\n",
    "k = 20\n",
    "A = OneBall(n, k)"
   ]
  },
  {
   "cell_type": "code",
   "execution_count": 63,
   "id": "23ed6b5b",
   "metadata": {},
   "outputs": [
    {
     "name": "stdout",
     "output_type": "stream",
     "text": [
      "\n",
      "  -------------------------------------------------------------------------\n",
      "  Polar Level Set Method\n",
      "  -------------------------------------------------------------------------\n",
      "  number of variables       2560         number of constraints     600\n",
      "  feasibility tolerance  3.19e-06         α                    2.41e-06\n",
      "  max iterations           20000 \n",
      "  -------------------------------------------------------------------------\n",
      "  Major      Minor        u-α        ℓ-α        gap          τ         infeas-α  Subproblem\n",
      "      1          1   6.99e+00   4.58e+00   2.41e+00   7.59e+00       8.83e-01   suboptimal\n",
      "      2         20   7.82e-01   7.86e-03   7.74e-01   1.06e+01       3.72e-09   feasible\n",
      "  -------------------------------------------------------------------------\n",
      "  residual (abs)          2.2e-03         optimality gap (abs)   7.74e-01\n",
      "  residual (rel)          6.9e-04         optimality gap (rel)   2.42e-01\n",
      "  total iterations             21                                        \n",
      "  -------------------------------------------------------------------------\n"
     ]
    }
   ],
   "source": [
    "sol = level_set(M, b, A, α = α, tol=1e-6, maxIts=20000); "
   ]
  },
  {
   "cell_type": "code",
   "execution_count": 64,
   "id": "e4768740",
   "metadata": {},
   "outputs": [
    {
     "data": {
      "text/plain": [
       "0.0010000866175811785"
      ]
     },
     "execution_count": 64,
     "metadata": {},
     "output_type": "execute_result"
    }
   ],
   "source": [
    "x = constructPrimal(sol)\n",
    "norm(M*x - b) / norm(b)"
   ]
  },
  {
   "cell_type": "code",
   "execution_count": null,
   "id": "84fc57a1",
   "metadata": {},
   "outputs": [],
   "source": []
  }
 ],
 "metadata": {
  "kernelspec": {
   "display_name": "Julia 1.6.2",
   "language": "julia",
   "name": "julia-1.6"
  },
  "language_info": {
   "file_extension": ".jl",
   "mimetype": "application/julia",
   "name": "julia",
   "version": "1.6.2"
  }
 },
 "nbformat": 4,
 "nbformat_minor": 5
}
