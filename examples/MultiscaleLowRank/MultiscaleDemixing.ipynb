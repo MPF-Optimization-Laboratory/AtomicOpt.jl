{
 "cells": [
  {
   "cell_type": "code",
   "execution_count": 1,
   "id": "30850f82",
   "metadata": {},
   "outputs": [],
   "source": [
    "push!(LOAD_PATH, \"/home/zhenan/Github/AtomicOpt.jl\")\n",
    "using AtomicOpt\n",
    "using Plots\n",
    "using Images\n",
    "using LinearAlgebra\n",
    "using SparseArrays"
   ]
  },
  {
   "cell_type": "markdown",
   "id": "33d69346",
   "metadata": {},
   "source": [
    "## Load data"
   ]
  },
  {
   "cell_type": "code",
   "execution_count": 2,
   "id": "08b9bbc8",
   "metadata": {},
   "outputs": [],
   "source": [
    "x1 = Vector{Float64}()\n",
    "x2 = Vector{Float64}()\n",
    "x3 = Vector{Float64}()\n",
    "x4 = Vector{Float64}()\n",
    "b = Vector{Float64}()\n",
    "kr1 = 0\n",
    "kr2 = Vector{Int64}()\n",
    "kr3 = Vector{Int64}()\n",
    "kr4 = 0\n",
    "m = 0\n",
    "n = 0\n",
    "lines = readlines(\"./MultiscaleData.txt\", keep=true)\n",
    "for line in lines\n",
    "    info = split(line)\n",
    "    if length(info) ≥ 1\n",
    "        if info[1] == \"x1\"\n",
    "            for s in info[3:end]\n",
    "                push!(x1, parse(Float64, s))\n",
    "            end\n",
    "        elseif info[1] == \"x2\"\n",
    "            for s in info[3:end]\n",
    "                push!(x2, parse(Float64, s))\n",
    "            end\n",
    "        elseif info[1] == \"x3\"\n",
    "            for s in info[3:end]\n",
    "                push!(x3, parse(Float64, s))\n",
    "            end\n",
    "        elseif info[1] == \"x4\"\n",
    "            for s in info[3:end]\n",
    "                push!(x4, parse(Float64, s))\n",
    "            end\n",
    "        elseif info[1] == \"b\"\n",
    "            for s in info[3:end]\n",
    "                push!(b, parse(Float64, s))\n",
    "            end\n",
    "        elseif info[1] == \"kr1\"\n",
    "            kr1 = parse(Int64, info[3])\n",
    "        elseif info[1] == \"kr2\"\n",
    "            for s in info[3:end]\n",
    "                push!(kr2, parse(Int64, s))\n",
    "            end\n",
    "        elseif info[1] == \"kr3\"\n",
    "            for s in info[3:end]\n",
    "                push!(kr3, parse(Int64, s))\n",
    "            end\n",
    "        elseif info[1] == \"kr4\"\n",
    "            kr4 = parse(Int64, info[3])\n",
    "        elseif info[1] == \"m\"\n",
    "            m = parse(Int64, info[3])\n",
    "        elseif info[1] == \"n\"\n",
    "            n = parse(Int64, info[3])\n",
    "        end\n",
    "    end\n",
    "end"
   ]
  },
  {
   "cell_type": "markdown",
   "id": "46c3882a",
   "metadata": {},
   "source": [
    "## Plot observation"
   ]
  },
  {
   "cell_type": "code",
   "execution_count": 3,
   "id": "41dd656d",
   "metadata": {},
   "outputs": [
    {
     "data": {
      "image/png": "[encoded data removed]",
      "text/plain": [
       "64×64 reinterpret(reshape, Gray{Float64}, ::Matrix{Float64}) with eltype Gray{Float64}:\n",
       " Gray{Float64}(0.0)    Gray{Float64}(0.0)    …  Gray{Float64}(0.0)\n",
       " Gray{Float64}(0.0)    Gray{Float64}(0.0)       Gray{Float64}(0.0)\n",
       " Gray{Float64}(0.0)    Gray{Float64}(0.0)       Gray{Float64}(0.0)\n",
       " Gray{Float64}(0.0)    Gray{Float64}(0.0)       Gray{Float64}(0.0)\n",
       " Gray{Float64}(0.0)    Gray{Float64}(0.001)     Gray{Float64}(0.0)\n",
       " Gray{Float64}(0.0)    Gray{Float64}(0.001)  …  Gray{Float64}(0.0)\n",
       " Gray{Float64}(0.0)    Gray{Float64}(0.001)     Gray{Float64}(0.0)\n",
       " Gray{Float64}(0.0)    Gray{Float64}(0.001)     Gray{Float64}(0.0)\n",
       " Gray{Float64}(0.0)    Gray{Float64}(0.002)     Gray{Float64}(0.0)\n",
       " Gray{Float64}(0.001)  Gray{Float64}(0.002)     Gray{Float64}(0.001)\n",
       " Gray{Float64}(0.001)  Gray{Float64}(0.002)  …  Gray{Float64}(0.001)\n",
       " Gray{Float64}(0.001)  Gray{Float64}(0.003)     Gray{Float64}(0.001)\n",
       " Gray{Float64}(0.001)  Gray{Float64}(0.003)     Gray{Float64}(0.001)\n",
       " ⋮                                           ⋱  \n",
       " Gray{Float64}(0.022)  Gray{Float64}(0.086)     Gray{Float64}(0.001)\n",
       " Gray{Float64}(0.028)  Gray{Float64}(0.107)     Gray{Float64}(0.001)\n",
       " Gray{Float64}(0.032)  Gray{Float64}(0.123)     Gray{Float64}(0.001)\n",
       " Gray{Float64}(0.034)  Gray{Float64}(0.131)  …  Gray{Float64}(0.0)\n",
       " Gray{Float64}(0.034)  Gray{Float64}(0.131)     Gray{Float64}(0.0)\n",
       " Gray{Float64}(0.031)  Gray{Float64}(0.122)     Gray{Float64}(0.0)\n",
       " Gray{Float64}(0.027)  Gray{Float64}(0.105)     Gray{Float64}(0.0)\n",
       " Gray{Float64}(0.022)  Gray{Float64}(0.084)     Gray{Float64}(0.0)\n",
       " Gray{Float64}(0.015)  Gray{Float64}(0.06)   …  Gray{Float64}(0.0)\n",
       " Gray{Float64}(0.009)  Gray{Float64}(0.036)     Gray{Float64}(0.0)\n",
       " Gray{Float64}(0.004)  Gray{Float64}(0.017)     Gray{Float64}(0.0)\n",
       " Gray{Float64}(0.001)  Gray{Float64}(0.004)     Gray{Float64}(0.0)"
      ]
     },
     "execution_count": 3,
     "metadata": {},
     "output_type": "execute_result"
    }
   ],
   "source": [
    "colorview(Gray, reshape(b, m, n))"
   ]
  },
  {
   "cell_type": "markdown",
   "id": "233d9c4c",
   "metadata": {},
   "source": [
    "## Construct atomic sets"
   ]
  },
  {
   "cell_type": "code",
   "execution_count": 4,
   "id": "80cb3883",
   "metadata": {},
   "outputs": [
    {
     "data": {
      "text/plain": [
       "atomic set  : Sum of atomic sets\n",
       "description : A₁ + A₂ + ⋯\n",
       "parameters  : 4 sets; n = 4096"
      ]
     },
     "execution_count": 4,
     "metadata": {},
     "output_type": "execute_result"
    }
   ],
   "source": [
    "A1 = OneBall(m*n, maxrank=kr1); A1 = gauge(A1, x1)*A1\n",
    "A2 = BlkNucBall(m, n, 4, 4, reshape(kr2, 16, 16)); A2 = gauge(A2, x2)*A2\n",
    "A3 = BlkNucBall(m, n, 16, 16, reshape(kr3, 4, 4)); A3 = gauge(A3, x3)*A3\n",
    "A4 = NucBall(m, n, maxrank=kr4); A4 = gauge(A4, x4)*A4\n",
    "A = A1 + A2 + A3 + A4"
   ]
  },
  {
   "cell_type": "markdown",
   "id": "f253bd64",
   "metadata": {},
   "source": [
    "## Solve demixing problem"
   ]
  },
  {
   "cell_type": "code",
   "execution_count": 5,
   "id": "ce9e38a8",
   "metadata": {},
   "outputs": [
    {
     "name": "stdout",
     "output_type": "stream",
     "text": [
      "\n",
      "  -------------------------------------------------------------------------\n",
      "  Polar Level Set Method\n",
      "  -------------------------------------------------------------------------\n",
      "  number of variables       4096         number of constraints    4096\n",
      "  feasibility tolerance  3.20e-02         α                    0.00e+00\n",
      "  max iterations            5000 \n",
      "  -------------------------------------------------------------------------\n",
      "  Major      Minor        u-α        ℓ-α        gap          τ         infeas-α  Subproblem\n",
      "      1          2   1.69e+02   1.55e+01   1.54e+02   3.95e-01       4.79e+02   suboptimal\n",
      "      2          1   1.52e+02   8.31e+01   6.84e+01   4.21e-01       4.79e+02   suboptimal\n",
      "      3          2   8.21e+01   1.56e+01   6.65e+01   5.68e-01       4.79e+02   suboptimal\n",
      "      4          1   6.68e+01   1.71e+01   4.97e+01   6.06e-01       4.79e+02   suboptimal\n",
      "      5          1   5.15e+01   1.89e+01   3.26e+01   6.55e-01       4.79e+02   suboptimal\n",
      "      6          2   3.51e+01   4.26e+00   3.09e+01   7.18e-01       4.79e+02   suboptimal\n",
      "      7          1   3.09e+01   5.06e+00   2.59e+01   7.36e-01       1.16e+01   suboptimal\n",
      "      8          1   2.63e+01   9.96e-01   2.53e+01   7.59e-01       1.16e+01   suboptimal\n",
      "      9          1   2.50e+01   3.17e+00   2.18e+01   7.64e-01       1.16e+01   suboptimal\n",
      "     10          2   2.20e+01   4.58e+00   1.74e+01   7.80e-01       1.16e+01   suboptimal\n",
      "     11          2   1.78e+01   2.31e+00   1.55e+01   8.06e-01       1.16e+01   suboptimal\n",
      "     12          2   1.56e+01   3.68e+00   1.19e+01   8.20e-01       1.16e+01   suboptimal\n",
      "     13          3   1.22e+01   2.01e+00   1.02e+01   8.45e-01       1.16e+01   suboptimal\n",
      "     14          5   9.97e+00   5.02e-01   9.46e+00   8.60e-01       1.13e+01   suboptimal\n",
      "     15          1   9.45e+00   7.41e-01   8.71e+00   8.65e-01       1.13e+01   suboptimal\n",
      "     16          2   8.65e+00   1.45e+00   7.20e+00   8.71e-01       1.13e+01   suboptimal\n",
      "     17          3   7.23e+00   4.40e-02   7.19e+00   8.84e-01       1.13e+01   suboptimal\n",
      "     18          7   6.76e+00   3.05e-01   6.46e+00   8.85e-01       1.13e+01   suboptimal\n",
      "     19          2   6.38e+00   9.79e-02   6.28e+00   8.88e-01       1.13e+01   suboptimal\n",
      "     20          2   6.22e+00   8.97e-01   5.32e+00   8.89e-01       1.13e+01   suboptimal\n",
      "     21          6   5.26e+00   2.92e-01   4.97e+00   8.99e-01       1.13e+01   suboptimal\n",
      "     22          3   4.94e+00   3.61e-01   4.57e+00   9.02e-01       1.13e+01   suboptimal\n",
      "     23          5   4.53e+00   1.42e-01   4.39e+00   9.07e-01       1.13e+01   suboptimal\n",
      "     24          2   4.34e+00   3.80e-01   3.96e+00   9.09e-01       1.13e+01   suboptimal\n",
      "     25          4   3.93e+00   6.52e-02   3.87e+00   9.14e-01       1.13e+01   suboptimal\n",
      "     26          7   3.75e+00   2.61e-01   3.49e+00   9.15e-01       1.13e+01   suboptimal\n",
      "     27          5   3.45e+00   2.33e-01   3.22e+00   9.18e-01       1.13e+01   suboptimal\n",
      "     28         15   3.08e+00   1.11e-01   2.97e+00   9.22e-01       1.13e+01   suboptimal\n",
      "     29          1   2.97e+00   2.24e-01   2.75e+00   9.24e-01       3.26e+00   suboptimal\n",
      "     30          1   2.76e+00   5.55e-02   2.71e+00   9.27e-01       3.26e+00   suboptimal\n",
      "     31          8   2.64e+00   8.71e-02   2.55e+00   9.28e-01       3.26e+00   suboptimal\n",
      "     32          7   2.51e+00   2.76e-01   2.23e+00   9.30e-01       3.26e+00   suboptimal\n",
      "     33         15   2.18e+00   9.78e-02   2.08e+00   9.35e-01       3.26e+00   suboptimal\n",
      "     34          3   2.07e+00   8.77e-02   1.98e+00   9.36e-01       3.26e+00   suboptimal\n",
      "     35         10   1.95e+00   1.35e-01   1.82e+00   9.38e-01       3.26e+00   suboptimal\n",
      "     36         17   1.76e+00   8.32e-02   1.68e+00   9.41e-01       3.26e+00   suboptimal\n",
      "     37         20   1.62e+00   3.54e-02   1.59e+00   9.43e-01       3.26e+00   suboptimal\n",
      "     38          8   1.57e+00   9.38e-02   1.47e+00   9.44e-01       3.26e+00   suboptimal\n",
      "     39         11   1.45e+00   4.96e-02   1.41e+00   9.46e-01       3.26e+00   suboptimal\n",
      "     40         12   1.38e+00   1.04e-01   1.28e+00   9.47e-01       3.26e+00   suboptimal\n",
      "     41         21   1.25e+00   3.86e-02   1.21e+00   9.49e-01       3.26e+00   suboptimal\n",
      "     42         12   1.19e+00   1.14e-01   1.08e+00   9.50e-01       3.26e+00   suboptimal\n",
      "     43         11   1.07e+00   8.13e-02   9.90e-01   9.53e-01       3.26e+00   suboptimal\n",
      "     44         30   9.63e-01   1.11e-01   8.52e-01   9.56e-01       3.26e+00   suboptimal\n",
      "     45         51   8.16e-01   6.40e-02   7.52e-01   9.59e-01       3.26e+00   suboptimal\n",
      "     46         39   7.31e-01   5.68e-02   6.74e-01   9.61e-01       3.26e+00   suboptimal\n",
      "     47         52   6.50e-01   4.73e-02   6.03e-01   9.63e-01       3.26e+00   suboptimal\n",
      "     48         59   5.83e-01   3.58e-02   5.47e-01   9.65e-01       3.26e+00   suboptimal\n",
      "     49         10   5.45e-01   8.80e-02   4.57e-01   9.66e-01       3.26e+00   suboptimal\n",
      "     50        106   4.37e-01   4.66e-02   3.91e-01   9.69e-01       2.19e+00   suboptimal\n",
      "     51        154   3.66e-01   3.73e-02   3.29e-01   9.71e-01       2.19e+00   suboptimal\n",
      "     52        198   3.09e-01   4.22e-02   2.66e-01   9.73e-01       2.19e+00   suboptimal\n",
      "     53        196   2.54e-01   3.52e-02   2.19e-01   9.75e-01       2.19e+00   suboptimal\n",
      "     54        299   2.04e-01   3.60e-02   1.68e-01   9.77e-01       2.19e+00   suboptimal\n",
      "     55        600   1.55e-01   3.52e-02   1.20e-01   9.80e-01       1.67e+00   suboptimal\n",
      "     56       1050   1.10e-01   3.42e-02   7.58e-02   9.82e-01       1.67e+00   suboptimal\n",
      "     57       1909   7.02e-02   1.43e-02   5.59e-02   9.85e-01       1.67e+00   iterations\n",
      "  -------------------------------------------------------------------------\n",
      "  residual (abs)          1.8e+00         optimality gap (abs)   5.59e-02\n",
      "  residual (rel)          5.7e-02         optimality gap (rel)   1.75e-03\n",
      "  total iterations           5000                                        \n",
      "  -------------------------------------------------------------------------\n"
     ]
    },
    {
     "data": {
      "text/plain": [
       "Solution{AbstractFace, Vector{Float64}, Float64}(face of atomic set  : Face of the sum of atomic sets\n",
       "parameters          : rank = (10, 256, 16, 1); n = 4096, face of atomic set  : Face of the sum of atomic sets\n",
       "parameters          : rank = (10, 256, 16, 1); n = 4096, [0.09972540117310523, 0.0995428238359226, 0.0986793597709744, 0.09905976985216516, 0.09952928798602331, 0.09876130125233142, 0.00037600760166818444, 0.00035773549198245415, 0.09776547934862866, 0.00024254005487009815  …  0.0, 0.0, 0.0, 0.0, 0.0, 0.0, 0.0, 0.25017436754664396, 0.0, 0.9928147927333641], [0.09980092141872249, 0.09942691690188406, 0.0982955662385411, 0.09977209162584962, 0.0013472136621259902, 0.001218863717974433, 0.0004403338604463483, 0.00026296095965729104, 0.0013803211798019363, 0.00011738182164023951  …  0.0, 0.0, 0.0, 0.0, 0.0, 0.0, 0.0, 0.24984283955613523, 0.0, 0.9975934058471762], 1.6735905414015775, 3.0722359556047554, [-2.072982787262414e-5, -5.0968626228757724e-5, -8.937886214601799e-5, -0.00012956596903204178, -0.00018944722011086996, -0.0002706636385202791, -0.0003651210968036361, -0.00047057405412177127, -0.000587820970894799, 0.0002847396927705384  …  0.0004616414524151859, -0.0004398326207617768, -0.0003511860342980283, -0.00027542876305731013, -0.0002059721318277622, -0.00014579836193784036, -9.912367427914145e-5, -6.696979039716986e-5, -3.605430126341941e-5, -1.0182843140768249e-5])"
      ]
     },
     "execution_count": 5,
     "metadata": {},
     "output_type": "execute_result"
    }
   ],
   "source": [
    "sol = level_set(I(m*n), b, A, tol = 1e-3, maxIts=5000)"
   ]
  },
  {
   "cell_type": "markdown",
   "id": "7c0cd51f",
   "metadata": {},
   "source": [
    "## Plot result"
   ]
  },
  {
   "cell_type": "code",
   "execution_count": 6,
   "id": "514d8f92",
   "metadata": {},
   "outputs": [],
   "source": [
    "# construct primal\n",
    "x = constructPrimal(sol);"
   ]
  },
  {
   "cell_type": "code",
   "execution_count": 7,
   "id": "fb8f96ec",
   "metadata": {},
   "outputs": [
    {
     "data": {
      "image/png": "[encoded data removed]",
      "text/plain": [
       "64×64 reinterpret(reshape, Gray{Float64}, ::Matrix{Float64}) with eltype Gray{Float64}:\n",
       " Gray{Float64}(0.0)  Gray{Float64}(0.0)  …  Gray{Float64}(0.0)\n",
       " Gray{Float64}(0.0)  Gray{Float64}(0.0)     Gray{Float64}(0.0)\n",
       " Gray{Float64}(0.0)  Gray{Float64}(0.0)     Gray{Float64}(0.0)\n",
       " Gray{Float64}(0.0)  Gray{Float64}(0.0)     Gray{Float64}(0.0)\n",
       " Gray{Float64}(0.0)  Gray{Float64}(0.0)     Gray{Float64}(0.0)\n",
       " Gray{Float64}(0.0)  Gray{Float64}(0.0)  …  Gray{Float64}(0.0)\n",
       " Gray{Float64}(0.0)  Gray{Float64}(0.0)     Gray{Float64}(0.0)\n",
       " Gray{Float64}(0.0)  Gray{Float64}(0.0)     Gray{Float64}(0.0)\n",
       " Gray{Float64}(0.0)  Gray{Float64}(0.0)     Gray{Float64}(0.0)\n",
       " Gray{Float64}(0.0)  Gray{Float64}(0.0)     Gray{Float64}(0.0)\n",
       " Gray{Float64}(0.0)  Gray{Float64}(0.0)  …  Gray{Float64}(0.0)\n",
       " Gray{Float64}(0.0)  Gray{Float64}(0.0)     Gray{Float64}(0.0)\n",
       " Gray{Float64}(0.0)  Gray{Float64}(0.0)     Gray{Float64}(0.0)\n",
       " ⋮                                       ⋱  \n",
       " Gray{Float64}(0.0)  Gray{Float64}(0.0)     Gray{Float64}(0.0)\n",
       " Gray{Float64}(0.0)  Gray{Float64}(0.0)     Gray{Float64}(0.0)\n",
       " Gray{Float64}(0.0)  Gray{Float64}(0.0)     Gray{Float64}(0.0)\n",
       " Gray{Float64}(0.0)  Gray{Float64}(0.0)  …  Gray{Float64}(0.0)\n",
       " Gray{Float64}(0.0)  Gray{Float64}(0.0)     Gray{Float64}(0.0)\n",
       " Gray{Float64}(0.0)  Gray{Float64}(0.0)     Gray{Float64}(0.0)\n",
       " Gray{Float64}(0.0)  Gray{Float64}(0.0)     Gray{Float64}(0.0)\n",
       " Gray{Float64}(0.0)  Gray{Float64}(0.0)     Gray{Float64}(0.0)\n",
       " Gray{Float64}(0.0)  Gray{Float64}(0.0)  …  Gray{Float64}(0.0)\n",
       " Gray{Float64}(0.0)  Gray{Float64}(0.0)     Gray{Float64}(0.0)\n",
       " Gray{Float64}(0.0)  Gray{Float64}(0.0)     Gray{Float64}(0.0)\n",
       " Gray{Float64}(0.0)  Gray{Float64}(0.0)     Gray{Float64}(0.0)"
      ]
     },
     "execution_count": 7,
     "metadata": {},
     "output_type": "execute_result"
    }
   ],
   "source": [
    "colorview(Gray, reshape(x[1], m, n))"
   ]
  },
  {
   "cell_type": "code",
   "execution_count": 8,
   "id": "43508520",
   "metadata": {},
   "outputs": [
    {
     "data": {
      "image/png": "[encoded data removed]",
      "text/plain": [
       "64×64 reinterpret(reshape, Gray{Float64}, ::Matrix{Float64}) with eltype Gray{Float64}:\n",
       " Gray{Float64}(0.0)  Gray{Float64}(0.0)  …  Gray{Float64}(0.0)\n",
       " Gray{Float64}(0.0)  Gray{Float64}(0.0)     Gray{Float64}(0.0)\n",
       " Gray{Float64}(0.0)  Gray{Float64}(0.0)     Gray{Float64}(0.0)\n",
       " Gray{Float64}(0.0)  Gray{Float64}(0.0)     Gray{Float64}(0.0)\n",
       " Gray{Float64}(0.0)  Gray{Float64}(0.0)     Gray{Float64}(0.0)\n",
       " Gray{Float64}(0.0)  Gray{Float64}(0.0)  …  Gray{Float64}(0.0)\n",
       " Gray{Float64}(0.0)  Gray{Float64}(0.0)     Gray{Float64}(0.0)\n",
       " Gray{Float64}(0.0)  Gray{Float64}(0.0)     Gray{Float64}(0.0)\n",
       " Gray{Float64}(0.0)  Gray{Float64}(0.0)     Gray{Float64}(0.0)\n",
       " Gray{Float64}(0.0)  Gray{Float64}(0.0)     Gray{Float64}(0.0)\n",
       " Gray{Float64}(0.0)  Gray{Float64}(0.0)  …  Gray{Float64}(0.0)\n",
       " Gray{Float64}(0.0)  Gray{Float64}(0.0)     Gray{Float64}(0.0)\n",
       " Gray{Float64}(0.0)  Gray{Float64}(0.0)     Gray{Float64}(0.0)\n",
       " ⋮                                       ⋱  \n",
       " Gray{Float64}(0.0)  Gray{Float64}(0.0)     Gray{Float64}(0.0)\n",
       " Gray{Float64}(0.0)  Gray{Float64}(0.0)     Gray{Float64}(0.0)\n",
       " Gray{Float64}(0.0)  Gray{Float64}(0.0)     Gray{Float64}(0.0)\n",
       " Gray{Float64}(0.0)  Gray{Float64}(0.0)  …  Gray{Float64}(0.0)\n",
       " Gray{Float64}(0.0)  Gray{Float64}(0.0)     Gray{Float64}(0.0)\n",
       " Gray{Float64}(0.0)  Gray{Float64}(0.0)     Gray{Float64}(0.0)\n",
       " Gray{Float64}(0.0)  Gray{Float64}(0.0)     Gray{Float64}(0.0)\n",
       " Gray{Float64}(0.0)  Gray{Float64}(0.0)     Gray{Float64}(0.0)\n",
       " Gray{Float64}(0.0)  Gray{Float64}(0.0)  …  Gray{Float64}(0.0)\n",
       " Gray{Float64}(0.0)  Gray{Float64}(0.0)     Gray{Float64}(0.0)\n",
       " Gray{Float64}(0.0)  Gray{Float64}(0.0)     Gray{Float64}(0.0)\n",
       " Gray{Float64}(0.0)  Gray{Float64}(0.0)     Gray{Float64}(0.0)"
      ]
     },
     "execution_count": 8,
     "metadata": {},
     "output_type": "execute_result"
    }
   ],
   "source": [
    "colorview(Gray, reshape(x[2], m, n))"
   ]
  },
  {
   "cell_type": "code",
   "execution_count": 9,
   "id": "9442077a",
   "metadata": {},
   "outputs": [
    {
     "data": {
      "image/png": "[encoded data removed]",
      "text/plain": [
       "64×64 reinterpret(reshape, Gray{Float64}, ::Matrix{Float64}) with eltype Gray{Float64}:\n",
       " Gray{Float64}(0.0)         Gray{Float64}(0.0)         …  Gray{Float64}(0.0)\n",
       " Gray{Float64}(0.0)         Gray{Float64}(0.0)            Gray{Float64}(0.0)\n",
       " Gray{Float64}(0.0)         Gray{Float64}(0.0)            Gray{Float64}(0.0)\n",
       " Gray{Float64}(0.0)         Gray{Float64}(0.0)            Gray{Float64}(0.0)\n",
       " Gray{Float64}(0.0)         Gray{Float64}(0.0)            Gray{Float64}(0.0)\n",
       " Gray{Float64}(0.0)         Gray{Float64}(0.0)         …  Gray{Float64}(0.0)\n",
       " Gray{Float64}(0.0)         Gray{Float64}(0.0)            Gray{Float64}(0.0)\n",
       " Gray{Float64}(0.0)         Gray{Float64}(0.0)            Gray{Float64}(0.0)\n",
       " Gray{Float64}(0.0)         Gray{Float64}(0.0)            Gray{Float64}(0.0)\n",
       " Gray{Float64}(0.0)         Gray{Float64}(0.0)            Gray{Float64}(0.0)\n",
       " Gray{Float64}(0.0)         Gray{Float64}(0.0)         …  Gray{Float64}(0.0)\n",
       " Gray{Float64}(0.0)         Gray{Float64}(0.0)            Gray{Float64}(0.0)\n",
       " Gray{Float64}(0.0)         Gray{Float64}(0.0)            Gray{Float64}(0.0)\n",
       " ⋮                                                     ⋱  \n",
       " Gray{Float64}(0.0211687)   Gray{Float64}(0.0819738)      Gray{Float64}(0.0)\n",
       " Gray{Float64}(0.0266274)   Gray{Float64}(0.103112)       Gray{Float64}(0.0)\n",
       " Gray{Float64}(0.0307471)   Gray{Float64}(0.119065)       Gray{Float64}(0.0)\n",
       " Gray{Float64}(0.0329567)   Gray{Float64}(0.127622)    …  Gray{Float64}(0.0)\n",
       " Gray{Float64}(0.032942)    Gray{Float64}(0.127565)       Gray{Float64}(0.0)\n",
       " Gray{Float64}(0.0307392)   Gray{Float64}(0.119035)       Gray{Float64}(0.0)\n",
       " Gray{Float64}(0.0266246)   Gray{Float64}(0.103101)       Gray{Float64}(0.0)\n",
       " Gray{Float64}(0.0211659)   Gray{Float64}(0.0819629)      Gray{Float64}(0.0)\n",
       " Gray{Float64}(0.0151192)   Gray{Float64}(0.0585475)   …  Gray{Float64}(0.0)\n",
       " Gray{Float64}(0.00929574)  Gray{Float64}(0.0359969)      Gray{Float64}(0.0)\n",
       " Gray{Float64}(0.00435504)  Gray{Float64}(0.0168645)      Gray{Float64}(0.0)\n",
       " Gray{Float64}(0.00112413)  Gray{Float64}(0.00435308)     Gray{Float64}(0.0)"
      ]
     },
     "execution_count": 9,
     "metadata": {},
     "output_type": "execute_result"
    }
   ],
   "source": [
    "colorview(Gray, reshape(x[3], m, n))"
   ]
  },
  {
   "cell_type": "code",
   "execution_count": 10,
   "id": "86d068db",
   "metadata": {},
   "outputs": [
    {
     "data": {
      "image/png": "[encoded data removed]",
      "text/plain": [
       "64×64 reinterpret(reshape, Gray{Float64}, ::Matrix{Float64}) with eltype Gray{Float64}:\n",
       " Gray{Float64}(4.85308e-5)   …  Gray{Float64}(3.37531e-5)\n",
       " Gray{Float64}(0.00010051)      Gray{Float64}(6.99046e-5)\n",
       " Gray{Float64}(0.000140207)     Gray{Float64}(9.7514e-5)\n",
       " Gray{Float64}(0.000153117)     Gray{Float64}(0.000106493)\n",
       " Gray{Float64}(0.000197415)     Gray{Float64}(0.000137302)\n",
       " Gray{Float64}(0.000281999)  …  Gray{Float64}(0.00019613)\n",
       " Gray{Float64}(0.000380488)     Gray{Float64}(0.000264629)\n",
       " Gray{Float64}(0.000489992)     Gray{Float64}(0.000340789)\n",
       " Gray{Float64}(0.00061238)      Gray{Float64}(0.000425909)\n",
       " Gray{Float64}(0.000745083)     Gray{Float64}(0.000518204)\n",
       " Gray{Float64}(0.000886388)  …  Gray{Float64}(0.000616482)\n",
       " Gray{Float64}(0.00103594)      Gray{Float64}(0.000720497)\n",
       " Gray{Float64}(0.00119145)      Gray{Float64}(0.000828655)\n",
       " ⋮                           ⋱  \n",
       " Gray{Float64}(0.00106567)      Gray{Float64}(0.000741169)\n",
       " Gray{Float64}(0.000927087)     Gray{Float64}(0.000644788)\n",
       " Gray{Float64}(0.000790267)     Gray{Float64}(0.00054963)\n",
       " Gray{Float64}(0.000656289)  …  Gray{Float64}(0.000456448)\n",
       " Gray{Float64}(0.000530573)     Gray{Float64}(0.000369013)\n",
       " Gray{Float64}(0.000418038)     Gray{Float64}(0.000290745)\n",
       " Gray{Float64}(0.000314027)     Gray{Float64}(0.000218405)\n",
       " Gray{Float64}(0.000222887)     Gray{Float64}(0.000155018)\n",
       " Gray{Float64}(0.0001549)    …  Gray{Float64}(0.000107733)\n",
       " Gray{Float64}(0.000111273)     Gray{Float64}(7.739e-5)\n",
       " Gray{Float64}(6.27591e-5)      Gray{Float64}(4.36488e-5)\n",
       " Gray{Float64}(1.77572e-5)      Gray{Float64}(1.23501e-5)"
      ]
     },
     "execution_count": 10,
     "metadata": {},
     "output_type": "execute_result"
    }
   ],
   "source": [
    "colorview(Gray, reshape(x[4], m, n))"
   ]
  },
  {
   "cell_type": "code",
   "execution_count": null,
   "id": "08a97154",
   "metadata": {},
   "outputs": [],
   "source": []
  }
 ],
 "metadata": {
  "kernelspec": {
   "display_name": "Julia 1.6.2",
   "language": "julia",
   "name": "julia-1.6"
  },
  "language_info": {
   "file_extension": ".jl",
   "mimetype": "application/julia",
   "name": "julia",
   "version": "1.6.2"
  }
 },
 "nbformat": 4,
 "nbformat_minor": 5
}
