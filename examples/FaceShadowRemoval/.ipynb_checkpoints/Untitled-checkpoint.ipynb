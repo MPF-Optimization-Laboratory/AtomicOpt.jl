{
 "cells": [
  {
   "cell_type": "code",
   "execution_count": 32,
   "id": "7aa9693e",
   "metadata": {},
   "outputs": [],
   "source": [
    "using MAT\n",
    "using Images\n",
    "using LinearAlgebra\n",
    "using Printf"
   ]
  },
  {
   "cell_type": "code",
   "execution_count": 2,
   "id": "88404f49",
   "metadata": {},
   "outputs": [],
   "source": [
    "file = matopen(\"./face_result.mat\")\n",
    "data = read(file, \"X_it\")\n",
    "close(file)"
   ]
  },
  {
   "cell_type": "code",
   "execution_count": 3,
   "id": "3822fe01",
   "metadata": {},
   "outputs": [],
   "source": [
    "file = matopen(\"./face.mat\")\n",
    "Y = read(file, \"Y\")\n",
    "close(file)"
   ]
  },
  {
   "cell_type": "code",
   "execution_count": 25,
   "id": "e5c77a38",
   "metadata": {},
   "outputs": [
    {
     "data": {
      "text/plain": [
       "796.8555155893765"
      ]
     },
     "execution_count": 25,
     "metadata": {},
     "output_type": "execute_result"
    }
   ],
   "source": [
    "Xr = data[:,:,:,5]\n",
    "Xr = reshape(Xr, 192*168, 64)\n",
    "F = svd(Xr); kr = 5\n",
    "Xr = F.U[:, 1:kr] * Diagonal(F.S[1:kr]) * F.Vt[1:kr, :]\n",
    "τr = sum(F.S[1:kr])"
   ]
  },
  {
   "cell_type": "code",
   "execution_count": 29,
   "id": "7541e322",
   "metadata": {},
   "outputs": [
    {
     "data": {
      "text/plain": [
       "210296"
      ]
     },
     "execution_count": 29,
     "metadata": {},
     "output_type": "execute_result"
    }
   ],
   "source": [
    "Xs = reshape(data[:,:,:,1] + data[:,:,:,2], 192*168, 64)\n",
    "idx = findall(x->abs(x)<=1e-2, Xs); Xs[idx] .= 0\n",
    "ks = count(x->abs(x)>0.0,Xs)\n",
    "ks "
   ]
  },
  {
   "cell_type": "code",
   "execution_count": 30,
   "id": "fdff8b07",
   "metadata": {},
   "outputs": [
    {
     "data": {
      "text/plain": [
       "6941.399326192301"
      ]
     },
     "execution_count": 30,
     "metadata": {},
     "output_type": "execute_result"
    }
   ],
   "source": [
    "τs = norm(vec(Xs), 1)"
   ]
  },
  {
   "cell_type": "code",
   "execution_count": 31,
   "id": "8b67fea9",
   "metadata": {},
   "outputs": [
    {
     "data": {
      "text/plain": [
       "265.6193662023435"
      ]
     },
     "execution_count": 31,
     "metadata": {},
     "output_type": "execute_result"
    }
   ],
   "source": [
    "N = reshape(Y, 192*168, 64) - Xs - Xr\n",
    "norm(N, 2)"
   ]
  },
  {
   "cell_type": "code",
   "execution_count": null,
   "id": "ac9e3734",
   "metadata": {},
   "outputs": [],
   "source": [
    "Yplot "
   ]
  }
 ],
 "metadata": {
  "kernelspec": {
   "display_name": "Julia 1.6.2",
   "language": "julia",
   "name": "julia-1.6"
  },
  "language_info": {
   "file_extension": ".jl",
   "mimetype": "application/julia",
   "name": "julia",
   "version": "1.6.2"
  }
 },
 "nbformat": 4,
 "nbformat_minor": 5
}
