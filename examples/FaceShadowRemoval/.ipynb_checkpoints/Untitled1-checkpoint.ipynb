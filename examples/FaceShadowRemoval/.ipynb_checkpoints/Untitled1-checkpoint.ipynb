{
 "cells": [
  {
   "cell_type": "code",
   "execution_count": 2,
   "id": "3bfe6475",
   "metadata": {},
   "outputs": [
    {
     "name": "stderr",
     "output_type": "stream",
     "text": [
      "\u001b[32m\u001b[1m  Activating\u001b[22m\u001b[39m environment at `~/projects/def-mpf/zhenan/julia/dev/AtomicOpt/Project.toml`\n"
     ]
    }
   ],
   "source": [
    "using Pkg\n",
    "Pkg.activate(\"/home/zhenan/projects/def-mpf/zhenan/julia/dev/AtomicOpt\")"
   ]
  },
  {
   "cell_type": "code",
   "execution_count": 3,
   "id": "0ad269f0",
   "metadata": {},
   "outputs": [],
   "source": [
    "using AtomicOpt\n",
    "using LinearAlgebra\n",
    "using SparseArrays\n",
    "using Printf\n",
    "using Arpack\n",
    "using LinearMaps\n",
    "using Plots\n",
    "import Random: randperm\n",
    "using MAT\n",
    "using Images\n",
    "using BlockArrays"
   ]
  },
  {
   "cell_type": "markdown",
   "id": "5cea7f18",
   "metadata": {},
   "source": [
    "## Load Data"
   ]
  },
  {
   "cell_type": "code",
   "execution_count": 4,
   "id": "1ea9708f",
   "metadata": {},
   "outputs": [],
   "source": [
    "file = matopen(\"./face.mat\")\n",
    "Y = read(file, \"Y\")\n",
    "close(file)\n",
    "b = vec(Y);"
   ]
  },
  {
   "cell_type": "markdown",
   "id": "f3c0048d",
   "metadata": {},
   "source": [
    "## Construct atomic sets"
   ]
  },
  {
   "cell_type": "code",
   "execution_count": 5,
   "id": "be5cbdd8",
   "metadata": {},
   "outputs": [
    {
     "data": {
      "text/plain": [
       "atomic set  : Sum of atomic sets\n",
       "description : A₁ + A₂ + ⋯\n",
       "parameters  : 2 sets; n = 2064384"
      ]
     },
     "execution_count": 5,
     "metadata": {},
     "output_type": "execute_result"
    }
   ],
   "source": [
    "m = 192 * 168\n",
    "n = 64\n",
    "ks = 210296\n",
    "kr = 5\n",
    "τs = 6941.40\n",
    "τr = 796.86\n",
    "As = OneBall(m*n; maxrank = ks); As = τs*As\n",
    "Ar = NucBall(m, n; maxrank = kr); Ar = τr*Ar\n",
    "A = As + Ar"
   ]
  },
  {
   "cell_type": "markdown",
   "id": "06584ea5",
   "metadata": {},
   "source": [
    "## Solve demixing problem"
   ]
  },
  {
   "cell_type": "code",
   "execution_count": null,
   "id": "7d15aa1b",
   "metadata": {},
   "outputs": [
    {
     "name": "stdout",
     "output_type": "stream",
     "text": [
      "\n",
      "  -------------------------------------------------------------------------\n",
      "  Polar Level Set Method\n",
      "  -------------------------------------------------------------------------\n",
      "  number of variables    2064384         number of constraints 2064384\n",
      "  feasibility tolerance  1.52e-01         α                    3.53e+04\n",
      "  max iterations            1000 \n",
      "  -------------------------------------------------------------------------\n",
      "  Major      Minor        u-α        ℓ-α        gap          τ         infeas-α  Subproblem\n",
      "      1          2   2.87e+04   2.77e+04   1.03e+03   2.97e-01       9.32e+02   suboptimal\n",
      "      2          2   6.46e+03   4.31e+03   2.15e+03   4.33e-01       3.81e+02   suboptimal\n",
      "      3          2   2.44e+03   3.67e+01   2.40e+03   4.63e-01       2.40e+02   suboptimal\n",
      "      4          2   2.37e+03   6.81e+01   2.31e+03   4.63e-01       2.36e+02   suboptimal\n",
      "      5          2   2.28e+03   7.05e+01   2.21e+03   4.64e-01       2.36e+02   suboptimal\n",
      "      6          2   2.17e+03   6.98e+01   2.10e+03   4.64e-01       2.36e+02   suboptimal\n",
      "      7          2   2.05e+03   8.26e+01   1.97e+03   4.65e-01       2.36e+02   suboptimal\n",
      "      8          2   1.93e+03   8.98e+01   1.84e+03   4.66e-01       2.36e+02   suboptimal\n",
      "      9          2   1.81e+03   8.99e+01   1.72e+03   4.66e-01       2.36e+02   suboptimal\n",
      "     10          2   1.68e+03   6.96e+01   1.61e+03   4.67e-01       1.08e+02   suboptimal\n",
      "     11          2   1.57e+03   9.70e+01   1.48e+03   4.67e-01       9.03e+01   suboptimal\n",
      "     12          2   1.44e+03   8.06e+01   1.36e+03   4.68e-01       7.78e+01   suboptimal\n"
     ]
    }
   ],
   "source": [
    "αopt = 265.61^2/2\n",
    "dual_gaps = Vector{Float64}()\n",
    "pr_infeas = Vector{Float64}()\n",
    "sol = level_set(I(m*n), b, A; \n",
    "    α=αopt, tol=1e-3, maxIts=1000, τmax=1.0, dual_gaps=dual_gaps, infeas=pr_infeas);"
   ]
  },
  {
   "cell_type": "code",
   "execution_count": 12,
   "id": "152ea783",
   "metadata": {},
   "outputs": [],
   "source": [
    "x = constructPrimal(sol);"
   ]
  },
  {
   "cell_type": "markdown",
   "id": "47547f51",
   "metadata": {},
   "source": [
    "## Plot result"
   ]
  },
  {
   "cell_type": "code",
   "execution_count": 22,
   "id": "51bda6de",
   "metadata": {},
   "outputs": [
    {
     "data": {
      "image/png": "[encoded data removed]",
      "text/plain": [
       "192×168 reinterpret(reshape, Gray{Float64}, ::Matrix{Float64}) with eltype Gray{Float64}:\n",
       " Gray{Float64}(0.188901)   …  Gray{Float64}(0.172812)\n",
       " Gray{Float64}(0.183798)      Gray{Float64}(0.172964)\n",
       " Gray{Float64}(0.181606)      Gray{Float64}(0.173191)\n",
       " Gray{Float64}(0.182488)      Gray{Float64}(0.172675)\n",
       " Gray{Float64}(0.184958)      Gray{Float64}(0.180185)\n",
       " Gray{Float64}(0.187743)   …  Gray{Float64}(0.17502)\n",
       " Gray{Float64}(0.19089)       Gray{Float64}(0.176938)\n",
       " Gray{Float64}(0.191493)      Gray{Float64}(0.171054)\n",
       " Gray{Float64}(0.190771)      Gray{Float64}(0.163968)\n",
       " Gray{Float64}(0.189536)      Gray{Float64}(0.167719)\n",
       " Gray{Float64}(0.187194)   …  Gray{Float64}(0.164575)\n",
       " Gray{Float64}(0.187266)      Gray{Float64}(0.163757)\n",
       " Gray{Float64}(0.188179)      Gray{Float64}(0.168185)\n",
       " ⋮                         ⋱  \n",
       " Gray{Float64}(0.086908)   …  Gray{Float64}(0.0908488)\n",
       " Gray{Float64}(0.0726458)     Gray{Float64}(0.0899504)\n",
       " Gray{Float64}(0.0682953)     Gray{Float64}(0.0828196)\n",
       " Gray{Float64}(0.0674525)     Gray{Float64}(0.0816526)\n",
       " Gray{Float64}(0.0696147)     Gray{Float64}(0.0765218)\n",
       " Gray{Float64}(0.0708001)  …  Gray{Float64}(0.0720565)\n",
       " Gray{Float64}(0.0716786)     Gray{Float64}(0.0669811)\n",
       " Gray{Float64}(0.0712933)     Gray{Float64}(0.0600279)\n",
       " Gray{Float64}(0.0600779)     Gray{Float64}(0.0493211)\n",
       " Gray{Float64}(0.0499701)     Gray{Float64}(0.050796)\n",
       " Gray{Float64}(0.0592732)  …  Gray{Float64}(0.0543065)\n",
       " Gray{Float64}(0.0549919)     Gray{Float64}(0.0645079)"
      ]
     },
     "execution_count": 22,
     "metadata": {},
     "output_type": "execute_result"
    }
   ],
   "source": [
    "xr = reshape(x[2], 192, 168, 64)\n",
    "i = 1\n",
    "colorview(Gray, xr[:,:,6])"
   ]
  },
  {
   "cell_type": "code",
   "execution_count": 1,
   "id": "400c739a",
   "metadata": {},
   "outputs": [
    {
     "ename": "LoadError",
     "evalue": "UndefVarError: BlockArray not defined",
     "output_type": "error",
     "traceback": [
      "UndefVarError: BlockArray not defined",
      "",
      "Stacktrace:",
      " [1] top-level scope",
      "   @ In[1]:1",
      " [2] eval",
      "   @ ./boot.jl:360 [inlined]",
      " [3] include_string(mapexpr::typeof(REPL.softscope), mod::Module, code::String, filename::String)",
      "   @ Base ./loading.jl:1116"
     ]
    }
   ],
   "source": [
    "Yplot = BlockArray( undef, 192*ones(Int, 8), 168*ones(Int, 8))"
   ]
  },
  {
   "cell_type": "code",
   "execution_count": null,
   "id": "f6c3acf3",
   "metadata": {},
   "outputs": [],
   "source": []
  }
 ],
 "metadata": {
  "kernelspec": {
   "display_name": "Julia 1.6.2",
   "language": "julia",
   "name": "julia-1.6"
  },
  "language_info": {
   "file_extension": ".jl",
   "mimetype": "application/julia",
   "name": "julia",
   "version": "1.6.2"
  }
 },
 "nbformat": 4,
 "nbformat_minor": 5
}
