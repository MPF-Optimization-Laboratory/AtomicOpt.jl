{
 "cells": [
  {
   "cell_type": "code",
   "execution_count": 3,
   "id": "fa151dd2",
   "metadata": {},
   "outputs": [],
   "source": [
    "push!(LOAD_PATH, \"/home/zhenan/Github/AtomicOpt.jl\")\n",
    "using AtomicOpt\n",
    "using Plots\n",
    "using Images\n",
    "using LinearAlgebra\n",
    "using SparseArrays"
   ]
  },
  {
   "cell_type": "markdown",
   "id": "ac85e475",
   "metadata": {},
   "source": [
    "## Load Data"
   ]
  },
  {
   "cell_type": "code",
   "execution_count": 9,
   "id": "5c4e2a29",
   "metadata": {},
   "outputs": [],
   "source": [
    "xs = Vector{Float64}()\n",
    "xr = Vector{Float64}()\n",
    "b = Vector{Float64}()\n",
    "m = 0\n",
    "n = 0\n",
    "ks = 0\n",
    "kr = 0\n",
    "open(\"./ChessBoardData.txt\", \"r\") do f\n",
    "    while !eof(f)\n",
    "        line = readline(f)\n",
    "        println(line)\n",
    "        info = split(line)\n",
    "        if info[1] == \"xs\"\n",
    "            for s in info[3:end]\n",
    "                push!(xs, parse(Float64, s))\n",
    "            end\n",
    "        elseif info[1] == \"xr\"\n",
    "            for s in info[3:end]\n",
    "                push!(xr, parse(Float64, s))\n",
    "            end\n",
    "        elseif info[1] == \"b\"\n",
    "            for s in info[3:end]\n",
    "                push!(b, parse(Float64, s))\n",
    "            end\n",
    "        elseif info[1] == \"ks\"\n",
    "            ks = parse(Int64, info[3])\n",
    "        elseif info[1] == \"kr\"\n",
    "            kr = parse(Int64, info[3])\n",
    "        elseif info[1] == \"m\"\n",
    "            m = parse(Int64, info[3])\n",
    "        elseif info[1] == \"n\"\n",
    "            n = parse(Int64, info[3])\n",
    "        end\n",
    "    end\n",
    "end"
   ]
  },
  {
   "cell_type": "code",
   "execution_count": 12,
   "id": "a749b019",
   "metadata": {},
   "outputs": [
    {
     "data": {
      "text/plain": [
       "Float64[]"
      ]
     },
     "execution_count": 12,
     "metadata": {},
     "output_type": "execute_result"
    }
   ],
   "source": [
    "xr"
   ]
  },
  {
   "cell_type": "markdown",
   "id": "7e3e8ba1",
   "metadata": {},
   "source": [
    "xs = reshape(xs, m, n)\n",
    "xr = reshape(xr, m, n)\n",
    "plot(Image(xs))"
   ]
  },
  {
   "cell_type": "code",
   "execution_count": null,
   "id": "4f884323",
   "metadata": {},
   "outputs": [],
   "source": []
  }
 ],
 "metadata": {
  "kernelspec": {
   "display_name": "Julia 1.6.2",
   "language": "julia",
   "name": "julia-1.6"
  },
  "language_info": {
   "file_extension": ".jl",
   "mimetype": "application/julia",
   "name": "julia",
   "version": "1.6.2"
  }
 },
 "nbformat": 4,
 "nbformat_minor": 5
}
