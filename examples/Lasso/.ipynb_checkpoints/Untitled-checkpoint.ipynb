{
 "cells": [
  {
   "cell_type": "code",
   "execution_count": 1,
   "id": "428aee73",
   "metadata": {},
   "outputs": [
    {
     "name": "stderr",
     "output_type": "stream",
     "text": [
      "\u001b[32m\u001b[1m  Activating\u001b[22m\u001b[39m environment at `~/projects/def-mpf/zhenan/julia/dev/AtomicOpt/Project.toml`\n"
     ]
    }
   ],
   "source": [
    "using Pkg\n",
    "Pkg.activate(\"/home/zhenan/projects/def-mpf/zhenan/julia/dev/AtomicOpt\")"
   ]
  },
  {
   "cell_type": "code",
   "execution_count": 2,
   "id": "93552084",
   "metadata": {},
   "outputs": [
    {
     "name": "stderr",
     "output_type": "stream",
     "text": [
      "┌ Info: Precompiling AtomicOpt [03e163f5-eebc-44fa-8de0-41458aa85bdf]\n",
      "└ @ Base loading.jl:1342\n"
     ]
    }
   ],
   "source": [
    "using Revise\n",
    "using AtomicOpt\n",
    "using LinearAlgebra\n",
    "using SparseArrays\n",
    "using Printf\n",
    "using Arpack"
   ]
  },
  {
   "cell_type": "markdown",
   "id": "9050751a",
   "metadata": {},
   "source": [
    "## Load data"
   ]
  },
  {
   "cell_type": "code",
   "execution_count": 3,
   "id": "c6f2612b",
   "metadata": {},
   "outputs": [
    {
     "data": {
      "text/plain": [
       "read_libsvm (generic function with 1 method)"
      ]
     },
     "execution_count": 3,
     "metadata": {},
     "output_type": "execute_result"
    }
   ],
   "source": [
    "function read_libsvm(filename::String)\n",
    "    numLine = 0\n",
    "    nnz = 0\n",
    "    open(filename, \"r\") do f\n",
    "        while !eof(f)\n",
    "            line = readline(f)\n",
    "            info = split(line)\n",
    "            numLine += 1\n",
    "            nnz += ( length(info)-1 )\n",
    "            if line[end] == ' '\n",
    "                nnz -= 1\n",
    "            end\n",
    "        end\n",
    "    end\n",
    "    @printf(\"number of lines: %i\\n\", numLine)\n",
    "    n = numLine\n",
    "    m = 0\n",
    "    I = zeros(Int64, nnz)\n",
    "    J = zeros(Int64, nnz)\n",
    "    V = zeros(Float64, nnz)\n",
    "    y = zeros(Float64, n)\n",
    "    numLine = 0\n",
    "    cc = 1\n",
    "    open(filename, \"r\") do f\n",
    "        while !eof(f)\n",
    "            numLine += 1\n",
    "            line = readline(f)\n",
    "            info = split(line)\n",
    "            value = parse(Float64, info[1] )\n",
    "            y[numLine] = value\n",
    "            ll = length(info)\n",
    "            if line[end] == ' '\n",
    "                ll -= 1\n",
    "            end\n",
    "            for i = 2:ll\n",
    "                idx, value = split(info[i], \":\")\n",
    "                idx = parse(Int, idx)\n",
    "                value = parse(Float64, value)\n",
    "                I[cc] = numLine\n",
    "                J[cc] = idx\n",
    "                V[cc] = value\n",
    "                cc += 1\n",
    "                m = max(m, idx)\n",
    "            end\n",
    "        end\n",
    "    end\n",
    "    return sparse( I, J, V, n, m ), y\n",
    "end"
   ]
  },
  {
   "cell_type": "code",
   "execution_count": 4,
   "id": "e8dd9c89",
   "metadata": {},
   "outputs": [
    {
     "name": "stdout",
     "output_type": "stream",
     "text": [
      "number of lines: 38\n"
     ]
    }
   ],
   "source": [
    "M, b = read_libsvm(\"./leu\");"
   ]
  },
  {
   "cell_type": "code",
   "execution_count": 5,
   "id": "d9d75a07",
   "metadata": {},
   "outputs": [
    {
     "name": "stdout",
     "output_type": "stream",
     "text": [
      "number of lines: 34\n"
     ]
    }
   ],
   "source": [
    "Mtest, btest = read_libsvm(\"./leu.t\");"
   ]
  },
  {
   "cell_type": "markdown",
   "id": "32be6a30",
   "metadata": {},
   "source": [
    "## Solve Lasso problem"
   ]
  },
  {
   "cell_type": "code",
   "execution_count": 39,
   "id": "74a79cb5",
   "metadata": {},
   "outputs": [
    {
     "name": "stdout",
     "output_type": "stream",
     "text": [
      "\n",
      "  -------------------------------------------------------------------------\n",
      "  Dual Conditional Gradient Method\n",
      "  -------------------------------------------------------------------------\n",
      "  number of variables       7129         number of constraints      38\n",
      "  feasibility tolerance  7.16e-05         α                    1.00e-01\n",
      "  max iterations            3800 \n",
      "  -------------------------------------------------------------------------\n",
      "  iteration        u-α        gap   infeas-α     exitFlag\n",
      "         1   3.94e+08   1.44e+05   2.05e-02   noerror\n",
      "         2   5.96e+07   1.63e+09   2.05e-02   noerror\n",
      "         3   1.13e+07   3.85e+08   2.05e-02   noerror\n",
      "         4   4.38e+06   1.58e+08   2.05e-02   noerror\n",
      "         5   3.00e+06   6.92e+07   6.31e-03   noerror\n",
      "         6   2.12e+06   5.06e+07   6.31e-03   noerror\n",
      "         7   1.70e+06   3.74e+07   2.14e-03   noerror\n",
      "         8   1.04e+06   3.61e+07   2.14e-03   noerror\n",
      "         9   6.92e+05   2.85e+07   2.14e-03   noerror\n",
      "        10   5.46e+05   2.26e+07   2.14e-03   noerror\n",
      "        11   3.95e+05   1.88e+07   1.38e-03   noerror\n",
      "        12   2.99e+05   1.59e+07   -1.56e-03   feasible\n",
      "  -------------------------------------------------------------------------\n",
      "  residual (abs)          4.4e-01 \n",
      "  residual (rel)          6.2e-02 \n",
      "  total iterations             12 \n",
      "  -------------------------------------------------------------------------\n"
     ]
    }
   ],
   "source": [
    "m, n = size(M)\n",
    "k = 40\n",
    "τ = 5000.0\n",
    "A = OneBall(n, k)\n",
    "sol = conditional_graident(M, b, A, τ; \n",
    "    α=1e-1, tol=1e-5, maxIts=100*length(b), pr=true);"
   ]
  },
  {
   "cell_type": "markdown",
   "id": "85b7ad83",
   "metadata": {},
   "source": [
    "## Check performance"
   ]
  },
  {
   "cell_type": "code",
   "execution_count": 34,
   "id": "940f5549",
   "metadata": {},
   "outputs": [],
   "source": [
    "function accuracy(M::AbstractMatrix{Float64}, b::Vector{Float64}, x::AbstractVector{Float64})\n",
    "    m, n = size(M)\n",
    "    predict = M*x\n",
    "    acc = 0.0\n",
    "    for i in 1:m\n",
    "        if sign(predict[i]) == b[i]\n",
    "            acc += 1/m\n",
    "        end\n",
    "    end\n",
    "    return acc\n",
    "end"
   ]
  },
  {
   "cell_type": "code",
   "execution_count": 40,
   "id": "ee41d52f",
   "metadata": {},
   "outputs": [
    {
     "name": "stdout",
     "output_type": "stream",
     "text": [
      "Training accuracy: 1.000000e+02%, Test accuracy: 5.882353e+01% \n"
     ]
    }
   ],
   "source": [
    "x = constructPrimal(sol);\n",
    "train_acc = accuracy(M, b, x)\n",
    "test_acc = accuracy(Mtest, btest, x)\n",
    "@printf \"Training accuracy: %e%%, Test accuracy: %e%% \\n\" train_acc*100 test_acc*100"
   ]
  },
  {
   "cell_type": "code",
   "execution_count": null,
   "id": "6f408db9",
   "metadata": {},
   "outputs": [],
   "source": []
  }
 ],
 "metadata": {
  "kernelspec": {
   "display_name": "Julia 1.6.2",
   "language": "julia",
   "name": "julia-1.6"
  },
  "language_info": {
   "file_extension": ".jl",
   "mimetype": "application/julia",
   "name": "julia",
   "version": "1.6.2"
  }
 },
 "nbformat": 4,
 "nbformat_minor": 5
}
