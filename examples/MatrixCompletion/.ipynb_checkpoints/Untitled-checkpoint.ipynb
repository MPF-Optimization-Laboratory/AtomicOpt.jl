{
 "cells": [
  {
   "cell_type": "code",
   "execution_count": 1,
   "id": "6542e165",
   "metadata": {},
   "outputs": [
    {
     "name": "stderr",
     "output_type": "stream",
     "text": [
      "┌ Info: Precompiling AtomicOpt [top-level]\n",
      "└ @ Base loading.jl:1342\n"
     ]
    }
   ],
   "source": [
    "push!(LOAD_PATH, \"/home/zhenan/Github/AtomicOpt.jl\")\n",
    "using AtomicOpt\n",
    "using LinearAlgebra\n",
    "using SparseArrays"
   ]
  },
  {
   "cell_type": "markdown",
   "id": "866613b8",
   "metadata": {},
   "source": [
    "## Load data"
   ]
  },
  {
   "cell_type": "code",
   "execution_count": 2,
   "id": "dd8b1bbe",
   "metadata": {},
   "outputs": [
    {
     "data": {
      "text/plain": [
       "load_data (generic function with 1 method)"
      ]
     },
     "execution_count": 2,
     "metadata": {},
     "output_type": "execute_result"
    }
   ],
   "source": [
    "function load_data(data::String)\n",
    "    if data == \"temperature\"\n",
    "        file = open(\"./temp2020.csv\", \"r\")\n",
    "        I = Vector{Int64}(); J = Vector{Int64}(); V = Vector{Float64}()\n",
    "        numRows=0; RowDict = Dict{String, Int64}();\n",
    "        numCols=0; ColDict = Dict{String, Int64}();\n",
    "        while !eof(file)\n",
    "            line = readline(file)\n",
    "            info = split(line, \",\")\n",
    "            # get value\n",
    "            v = parse(Float64, info[3])\n",
    "            if v!= 0\n",
    "                push!(V, v)\n",
    "                # get row index\n",
    "                if !haskey(RowDict, info[1])\n",
    "                    numRows += 1\n",
    "                    RowDict[info[1]] = numRows\n",
    "                end\n",
    "                i = RowDict[info[1]]\n",
    "                push!(I, i)\n",
    "                # get column index\n",
    "                if !haskey(ColDict, info[2])\n",
    "                    numCols += 1\n",
    "                    ColDict[info[2]] = numCols\n",
    "                end\n",
    "                j = ColDict[info[2]]\n",
    "                push!(J, j)\n",
    "            end    \n",
    "        end\n",
    "        close(file)\n",
    "        X = sparse(I,J,V,numRows,numCols)\n",
    "        X ./= maximum(X)\n",
    "        # low rank approximation\n",
    "        m, n = size(X)\n",
    "        r = 5\n",
    "        U, S, V = svds(X, nsv=r)[1]\n",
    "        Xopt = U*Diagonal(S)*V'\n",
    "        τ = sum(S)\n",
    "        # mask \n",
    "        p = 0.5\n",
    "        mask = sprand(Bool, m, n, p)\n",
    "        mask = convert(SparseMatrixCSC{Float64, Int64}, mask)\n",
    "        I,J,V = findnz(mask)\n",
    "        # measurement\n",
    "        b = Vector{Float64}\n",
    "        bopt = Vector{Float64}\n",
    "        l = length(I)\n",
    "        for t in 1:l\n",
    "            i, j = I[t], J[t]\n",
    "            push!(b, X[i,j])\n",
    "            push!(bopt, Xopt[i,j])\n",
    "        end\n",
    "        α = norm(b - bopt)^2/2\n",
    "        return m, n, r, Xopt, mask, b, α, τ\n",
    "    elseif data == \"movie\"\n",
    "        file = open(\"examples/MatrixCompletion/ml-100k.txt\", \"r\")\n",
    "        I = Vector{Int64}(); J = Vector{Int64}(); V = Vector{Float64}()\n",
    "        while !eof(file)\n",
    "            line = readline(file)\n",
    "            info = split(line)\n",
    "            i = parse(Int64, info[1])\n",
    "            j = parse(Int64, info[2])\n",
    "            v = parse(Float64, info[3])\n",
    "            push!(I, i); push!(J, j); push!(V, v)    \n",
    "        end\n",
    "        close(file)\n",
    "        X = sparse(I,J,V,maximum(I),maximum(J))\n",
    "        X ./= maximum(X)\n",
    "        # low rank approximation\n",
    "        m, n = size(X)\n",
    "        r = 5\n",
    "        U, S, V = svds(X, nsv=r)[1]\n",
    "        Xopt = U*Diagonal(S)*V'\n",
    "        τ = sum(S)\n",
    "        # mask \n",
    "        p = 0.5\n",
    "        mask = sprand(Bool, m, n, p)\n",
    "        mask = convert(SparseMatrixCSC{Float64, Int64}, mask)\n",
    "        I,J,V = findnz(mask)\n",
    "        # measurement\n",
    "        b = Vector{Float64}\n",
    "        bopt = Vector{Float64}\n",
    "        l = length(I)\n",
    "        for t in 1:l\n",
    "            i, j = I[t], J[t]\n",
    "            push!(b, X[i,j])\n",
    "            push!(bopt, Xopt[i,j])\n",
    "        end\n",
    "        α = norm(b - bopt)^2/2\n",
    "        return m, n, r, Xopt, mask, b, α, τ\n",
    "    elseif data == \"random\"\n",
    "        m, n, r = 100, 100, 3\n",
    "        X = rand(m, n)\n",
    "        U, S, V = svd(X)\n",
    "        X = U[:,1:r] * Diagonal( S[1:r] ) * V[:,1:r]'\n",
    "        τ = sum(S[1:r])\n",
    "        # mask \n",
    "        p = 0.5\n",
    "        mask = sprand(Bool, m, n, p)\n",
    "        mask = convert(SparseMatrixCSC{Float64, Int64}, mask)\n",
    "        I,J,V = findnz(mask)\n",
    "        # measurement \n",
    "        b = Vector{Float64}\n",
    "        l = length(I)\n",
    "        for t in 1:l\n",
    "            i, j = I[t], J[t]\n",
    "            push!(b, X[i,j])\n",
    "        end\n",
    "        η = rand(l)\n",
    "        ϵ = 1; η .*= (ϵ/norm(η))\n",
    "        b .+= η\n",
    "        α = norm(η)^2/2\n",
    "        return m, n, r, X, mask, b, α, τ\n",
    "    else\n",
    "        println(\"invalid data\")\n",
    "        return\n",
    "    end\n",
    "end"
   ]
  },
  {
   "cell_type": "code",
   "execution_count": 3,
   "id": "00872d7d",
   "metadata": {},
   "outputs": [],
   "source": [
    "m, n, r, Xopt, mask, b, αopt, τopt = load_data(\"random\");"
   ]
  },
  {
   "cell_type": "markdown",
   "id": "2e147f28",
   "metadata": {},
   "source": [
    "## Solve matrix completion problem"
   ]
  },
  {
   "cell_type": "code",
   "execution_count": 4,
   "id": "b4e0c2da",
   "metadata": {},
   "outputs": [
    {
     "name": "stdout",
     "output_type": "stream",
     "text": [
      "\n",
      "  -------------------------------------------------------------------------\n",
      "  Polar Level Set Method\n",
      "  -------------------------------------------------------------------------\n",
      "  number of variables      10000         number of constraints    5045\n",
      "  feasibility tolerance  3.81e-02         α                    5.00e-01\n",
      "  max iterations            5045 \n",
      "  -------------------------------------------------------------------------\n",
      "  Major      Minor        u-α        ℓ-α        gap          τ         infeas-α  Subproblem\n"
     ]
    },
    {
     "ename": "LoadError",
     "evalue": "BoundsError: attempt to access 5045-element Vector{Float64} at index [5046]",
     "output_type": "error",
     "traceback": [
      "BoundsError: attempt to access 5045-element Vector{Float64} at index [5046]",
      "",
      "Stacktrace:",
      " [1] setindex!",
      "   @ ./array.jl:839 [inlined]",
      " [2] mul!(Ma::Vector{Float64}, Mop::MaskOP{Int64, Vector{Int64}, SparseMatrixCSC{Float64, Int64}}, a::NucBallAtom{Int64, Vector{Float64}})",
      "   @ AtomicOpt ~/Github/AtomicOpt.jl/src/SetOperations/operators.jl:59",
      " [3] iterate(p::AtomicOpt.DualCGIterable{Float64, Vector{Float64}, AbstractArray{Float64, N} where N, Union{AtomicOpt.AbstractOperator, AbstractMatrix{T} where T, LinearMaps.LinearMap}, AbstractAtomicSet, AbstractAtom}, k::Int64)",
      "   @ AtomicOpt ~/Github/AtomicOpt.jl/src/Optimization/align.jl:54",
      " [4] iterate",
      "   @ ~/Github/AtomicOpt.jl/src/Optimization/align.jl:52 [inlined]",
      " [5] solveSubproblem!(dcg::AtomicOpt.DualCGIterable{Float64, Vector{Float64}, AbstractArray{Float64, N} where N, Union{AtomicOpt.AbstractOperator, AbstractMatrix{T} where T, LinearMaps.LinearMap}, AbstractAtomicSet, AbstractAtom}, τ::Float64, α::Float64, feaTol::Float64, maxIts::Int64, rule::String)",
      "   @ AtomicOpt ~/Github/AtomicOpt.jl/src/Optimization/levelset.jl:33",
      " [6] level_set(M::MaskOP{Int64, Vector{Int64}, SparseMatrixCSC{Float64, Int64}}, b::Vector{Float64}, A::NucBall{Int64}; α::Float64, tol::Float64, gapTol::Float64, maxIts::Int64, pr::Bool, logger::Bool, rule::String, τmax::Float64)",
      "   @ AtomicOpt ~/Github/AtomicOpt.jl/src/Optimization/levelset.jl:122",
      " [7] top-level scope",
      "   @ In[4]:3",
      " [8] eval",
      "   @ ./boot.jl:360 [inlined]",
      " [9] include_string(mapexpr::typeof(REPL.softscope), mod::Module, code::String, filename::String)",
      "   @ Base ./loading.jl:1116"
     ]
    }
   ],
   "source": [
    "Mop = MaskOP(mask)\n",
    "A = NucBall(m, n, 2*r)\n",
    "sol = level_set(Mop, b, A, α = αopt, tol = 1e-3, maxIts=length(b))"
   ]
  },
  {
   "cell_type": "code",
   "execution_count": null,
   "id": "1d8b7cb0",
   "metadata": {},
   "outputs": [],
   "source": []
  }
 ],
 "metadata": {
  "kernelspec": {
   "display_name": "Julia 1.6.2",
   "language": "julia",
   "name": "julia-1.6"
  },
  "language_info": {
   "file_extension": ".jl",
   "mimetype": "application/julia",
   "name": "julia",
   "version": "1.6.2"
  }
 },
 "nbformat": 4,
 "nbformat_minor": 5
}
