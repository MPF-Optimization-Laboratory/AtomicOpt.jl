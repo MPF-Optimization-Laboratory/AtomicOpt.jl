{
 "cells": [
  {
   "cell_type": "code",
   "execution_count": 9,
   "id": "b53f0414",
   "metadata": {},
   "outputs": [],
   "source": [
    "push!(LOAD_PATH, \"/home/zhenan/Github/AtomicOpt.jl\")\n",
    "using AtomicOpt\n",
    "using LinearAlgebra\n",
    "using SparseArrays\n",
    "using Printf\n",
    "using Arpack"
   ]
  },
  {
   "cell_type": "markdown",
   "id": "19f9c2f5",
   "metadata": {},
   "source": [
    "## Load data"
   ]
  },
  {
   "cell_type": "code",
   "execution_count": 10,
   "id": "26db6ae8",
   "metadata": {},
   "outputs": [
    {
     "data": {
      "text/plain": [
       "load_data (generic function with 1 method)"
      ]
     },
     "execution_count": 10,
     "metadata": {},
     "output_type": "execute_result"
    }
   ],
   "source": [
    "function load_data(data::String)\n",
    "    if data == \"temperature\"\n",
    "        file = open(\"./temp2020.csv\", \"r\")\n",
    "        I = Vector{Int64}(); J = Vector{Int64}(); V = Vector{Float64}()\n",
    "        numRows=0; RowDict = Dict{String, Int64}();\n",
    "        numCols=0; ColDict = Dict{String, Int64}();\n",
    "        while !eof(file)\n",
    "            line = readline(file)\n",
    "            info = split(line, \",\")\n",
    "            # get value\n",
    "            v = parse(Float64, info[3])\n",
    "            if v!= 0\n",
    "                push!(V, v)\n",
    "                # get row index\n",
    "                if !haskey(RowDict, info[1])\n",
    "                    numRows += 1\n",
    "                    RowDict[info[1]] = numRows\n",
    "                end\n",
    "                i = RowDict[info[1]]\n",
    "                push!(I, i)\n",
    "                # get column index\n",
    "                if !haskey(ColDict, info[2])\n",
    "                    numCols += 1\n",
    "                    ColDict[info[2]] = numCols\n",
    "                end\n",
    "                j = ColDict[info[2]]\n",
    "                push!(J, j)\n",
    "            end    \n",
    "        end\n",
    "        close(file)\n",
    "        X = sparse(I,J,V,numRows,numCols)\n",
    "        X ./= maximum(X)\n",
    "        # low rank approximation\n",
    "        m, n = size(X)\n",
    "        r = 5\n",
    "        U, S, V = svds(X, nsv=r)[1]\n",
    "        Xopt = U*Diagonal(S)*V'\n",
    "        τ = sum(S)\n",
    "        # mask \n",
    "        p = 0.5\n",
    "        mask = sprand(Bool, m, n, p)\n",
    "        mask = convert(SparseMatrixCSC{Float64, Int64}, mask)\n",
    "        I,J,V = findnz(mask)\n",
    "        # measurement\n",
    "        b = Vector{Float64}()\n",
    "        bopt = Vector{Float64}()\n",
    "        l = length(I)\n",
    "        for t in 1:l\n",
    "            i, j = I[t], J[t]\n",
    "            push!(b, X[i,j])\n",
    "            push!(bopt, Xopt[i,j])\n",
    "        end\n",
    "        α = norm(b - bopt)^2/2\n",
    "        return m, n, r, Xopt, mask, b, α, τ\n",
    "    elseif data == \"movie\"\n",
    "        file = open(\"examples/MatrixCompletion/ml-100k.txt\", \"r\")\n",
    "        I = Vector{Int64}(); J = Vector{Int64}(); V = Vector{Float64}()\n",
    "        while !eof(file)\n",
    "            line = readline(file)\n",
    "            info = split(line)\n",
    "            i = parse(Int64, info[1])\n",
    "            j = parse(Int64, info[2])\n",
    "            v = parse(Float64, info[3])\n",
    "            push!(I, i); push!(J, j); push!(V, v)    \n",
    "        end\n",
    "        close(file)\n",
    "        X = sparse(I,J,V,maximum(I),maximum(J))\n",
    "        X ./= maximum(X)\n",
    "        # low rank approximation\n",
    "        m, n = size(X)\n",
    "        r = 5\n",
    "        U, S, V = svds(X, nsv=r)[1]\n",
    "        Xopt = U*Diagonal(S)*V'\n",
    "        τ = sum(S)\n",
    "        # mask \n",
    "        p = 0.5\n",
    "        mask = sprand(Bool, m, n, p)\n",
    "        mask = convert(SparseMatrixCSC{Float64, Int64}, mask)\n",
    "        I,J,V = findnz(mask)\n",
    "        # measurement\n",
    "        b = Vector{Float64}()\n",
    "        bopt = Vector{Float64}()\n",
    "        l = length(I)\n",
    "        for t in 1:l\n",
    "            i, j = I[t], J[t]\n",
    "            push!(b, X[i,j])\n",
    "            push!(bopt, Xopt[i,j])\n",
    "        end\n",
    "        α = norm(b - bopt)^2/2\n",
    "        return m, n, r, Xopt, mask, b, α, τ\n",
    "    elseif data == \"random\"\n",
    "        m, n, r = 100, 100, 3\n",
    "        X = rand(m, n)\n",
    "        U, S, V = svd(X)\n",
    "        X = U[:,1:r] * Diagonal( S[1:r] ) * V[:,1:r]'\n",
    "        τ = sum(S[1:r])\n",
    "        # mask \n",
    "        p = 0.5\n",
    "        mask = sprand(Bool, m, n, p)\n",
    "        mask = convert(SparseMatrixCSC{Float64, Int64}, mask)\n",
    "        I,J,V = findnz(mask)\n",
    "        # measurement \n",
    "        b = Vector{Float64}()\n",
    "        l = length(I)\n",
    "        for t in 1:l\n",
    "            i, j = I[t], J[t]\n",
    "            push!(b, X[i,j])\n",
    "        end\n",
    "        η = rand(l)\n",
    "        ϵ = 1; η .*= (ϵ/norm(η))\n",
    "        b .+= η\n",
    "        α = norm(η)^2/2\n",
    "        return m, n, r, X, mask, b, α, τ\n",
    "    else\n",
    "        println(\"invalid data\")\n",
    "        return\n",
    "    end\n",
    "end"
   ]
  },
  {
   "cell_type": "code",
   "execution_count": 11,
   "id": "70098533",
   "metadata": {},
   "outputs": [],
   "source": [
    "m, n, r, Xopt, mask, b, αopt, τopt = load_data(\"temperature\");"
   ]
  },
  {
   "cell_type": "markdown",
   "id": "28a3c9f2",
   "metadata": {},
   "source": [
    "## Solve matrix completion problem"
   ]
  },
  {
   "cell_type": "code",
   "execution_count": null,
   "id": "703dfaa3",
   "metadata": {},
   "outputs": [
    {
     "name": "stdout",
     "output_type": "stream",
     "text": [
      "\n",
      "  -------------------------------------------------------------------------\n",
      "  Polar Level Set Method\n",
      "  -------------------------------------------------------------------------\n",
      "  number of variables    2488068         number of constraints 1244708\n",
      "  feasibility tolerance  2.81e-01         α                    2.38e+03\n",
      "  max iterations         1244708 \n",
      "  -------------------------------------------------------------------------\n",
      "  Major      Minor        u-α        ℓ-α        gap          τ         infeas-α  Subproblem\n",
      "      1          2   1.15e+04   7.03e+03   4.42e+03   2.15e+02       3.67e+04   suboptimal\n",
      "      2          2   5.62e+03   5.44e+03   1.87e+02   3.12e+02       3.67e+04   suboptimal\n",
      "      3          2   1.83e+03   1.12e+03   7.06e+02   4.22e+02       3.67e+04   suboptimal\n",
      "      4          4   9.60e+02   1.40e+02   8.20e+02   4.72e+02       3.67e+04   suboptimal\n",
      "      5          3   8.34e+02   4.09e+02   4.25e+02   4.81e+02       3.67e+04   suboptimal\n",
      "      6          6   5.00e+02   2.81e+01   4.72e+02   5.09e+02       3.67e+04   suboptimal\n",
      "      7          3   4.70e+02   1.50e+02   3.20e+02   5.12e+02       3.67e+04   suboptimal\n",
      "      8          5   3.38e+02   5.71e+01   2.81e+02   5.25e+02       3.67e+04   suboptimal\n",
      "      9          4   2.85e+02   2.06e+01   2.64e+02   5.30e+02       3.67e+04   suboptimal\n",
      "     10          1   2.65e+02   1.99e+01   2.46e+02   5.32e+02       1.24e+03   suboptimal\n",
      "     11          2   2.46e+02   3.11e+01   2.15e+02   5.34e+02       1.24e+03   suboptimal\n",
      "     12          3   2.17e+02   6.86e+01   1.48e+02   5.37e+02       1.24e+03   suboptimal\n",
      "     13         16   1.50e+02   1.44e+00   1.49e+02   5.45e+02       7.08e+02   suboptimal\n",
      "     14          2   1.49e+02   1.11e+01   1.38e+02   5.45e+02       6.60e+02   suboptimal\n",
      "     15          2   1.38e+02   1.54e+01   1.23e+02   5.46e+02       6.60e+02   suboptimal\n",
      "     16          3   1.23e+02   2.28e+01   1.00e+02   5.48e+02       6.60e+02   suboptimal\n",
      "     17         14   1.00e+02   4.48e+00   9.58e+01   5.51e+02       4.50e+02   suboptimal\n",
      "     18          2   9.58e+01   9.55e+00   8.62e+01   5.51e+02       4.45e+02   suboptimal\n",
      "     19          3   8.64e+01   9.66e+00   7.68e+01   5.53e+02       4.36e+02   suboptimal\n",
      "     20         15   7.64e+01   3.96e+00   7.24e+01   5.54e+02       2.89e+02   suboptimal\n",
      "     21          3   7.25e+01   3.69e+00   6.88e+01   5.54e+02       2.83e+02   suboptimal\n",
      "     22          3   6.88e+01   2.89e+00   6.59e+01   5.55e+02       2.67e+02   suboptimal\n",
      "     23         10   6.57e+01   1.25e+01   5.32e+01   5.55e+02       2.67e+02   suboptimal\n",
      "     24         25   5.29e+01   1.33e+00   5.15e+01   5.57e+02       1.53e+02   suboptimal\n",
      "     25         14   5.13e+01   9.17e-01   5.04e+01   5.57e+02       1.05e+02   suboptimal\n",
      "     26         10   5.02e+01   8.03e+00   4.22e+01   5.57e+02       1.05e+02   suboptimal\n",
      "     27         40   4.17e+01   2.41e+00   3.93e+01   5.58e+02       1.05e+02   suboptimal\n",
      "     28         55   3.87e+01   3.05e+00   3.56e+01   5.58e+02       1.05e+02   suboptimal\n",
      "     29        317   3.26e+01   3.48e-01   3.23e+01   5.59e+02       1.05e+02   suboptimal\n",
      "     30         35   3.20e+01   2.93e+00   2.91e+01   5.59e+02       1.05e+02   suboptimal\n",
      "     31        228   2.76e+01   1.66e+00   2.59e+01   5.59e+02       1.05e+02   suboptimal\n",
      "     32        312   2.42e+01   2.83e-01   2.39e+01   5.59e+02       1.05e+02   suboptimal\n",
      "     33        125   2.33e+01   8.88e-01   2.24e+01   5.59e+02       1.05e+02   suboptimal\n"
     ]
    }
   ],
   "source": [
    "Mop = MaskOP(mask)\n",
    "A = NucBall(m, n, 2*r)\n",
    "sol = level_set(Mop, b, A, α = αopt, tol = 1e-3, maxIts=length(b))"
   ]
  },
  {
   "cell_type": "markdown",
   "id": "6328e246",
   "metadata": {},
   "source": [
    "## Report relative difference"
   ]
  },
  {
   "cell_type": "code",
   "execution_count": 7,
   "id": "98f56125",
   "metadata": {},
   "outputs": [
    {
     "name": "stdout",
     "output_type": "stream",
     "text": [
      "The relative difference between Xopt and X: 2.609357e-02 \n"
     ]
    }
   ],
   "source": [
    "x = constructPrimal(sol)\n",
    "X = reshape(x, m, n)\n",
    "@printf \"The relative difference between Xopt and X: %e \\n\" norm(Xopt - X)/norm(Xopt)"
   ]
  },
  {
   "cell_type": "code",
   "execution_count": null,
   "id": "e23c1f3e",
   "metadata": {},
   "outputs": [],
   "source": []
  }
 ],
 "metadata": {
  "kernelspec": {
   "display_name": "Julia 1.6.2",
   "language": "julia",
   "name": "julia-1.6"
  },
  "language_info": {
   "file_extension": ".jl",
   "mimetype": "application/julia",
   "name": "julia",
   "version": "1.6.2"
  }
 },
 "nbformat": 4,
 "nbformat_minor": 5
}
