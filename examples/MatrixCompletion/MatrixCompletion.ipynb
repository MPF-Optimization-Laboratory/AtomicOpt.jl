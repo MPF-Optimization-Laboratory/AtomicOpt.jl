{
 "cells": [
  {
   "cell_type": "code",
   "execution_count": 1,
   "id": "b53f0414",
   "metadata": {},
   "outputs": [
    {
     "name": "stderr",
     "output_type": "stream",
     "text": [
      "\u001b[32m\u001b[1m  Activating\u001b[22m\u001b[39m environment at `~/projects/def-mpf/zhenan/julia/dev/AtomicOpt/Project.toml`\n"
     ]
    }
   ],
   "source": [
    "using Pkg\n",
    "Pkg.activate(\"/home/zhenan/projects/def-mpf/zhenan/julia/dev/AtomicOpt\")"
   ]
  },
  {
   "cell_type": "code",
   "execution_count": 2,
   "id": "61cf2df7",
   "metadata": {},
   "outputs": [],
   "source": [
    "using Revise\n",
    "using AtomicOpt\n",
    "using LinearAlgebra\n",
    "using SparseArrays\n",
    "using Printf\n",
    "using Arpack\n",
    "using Plots"
   ]
  },
  {
   "cell_type": "markdown",
   "id": "19f9c2f5",
   "metadata": {},
   "source": [
    "## Load data"
   ]
  },
  {
   "cell_type": "code",
   "execution_count": 3,
   "id": "26db6ae8",
   "metadata": {},
   "outputs": [
    {
     "data": {
      "text/plain": [
       "load_data (generic function with 1 method)"
      ]
     },
     "execution_count": 3,
     "metadata": {},
     "output_type": "execute_result"
    }
   ],
   "source": [
    "function load_data(data::String)\n",
    "    if data == \"temperature\"\n",
    "        file = open(\"./temp2020.csv\", \"r\")\n",
    "        I = Vector{Int64}(); J = Vector{Int64}(); V = Vector{Float64}()\n",
    "        numRows=0; RowDict = Dict{String, Int64}();\n",
    "        numCols=0; ColDict = Dict{String, Int64}();\n",
    "        while !eof(file)\n",
    "            line = readline(file)\n",
    "            info = split(line, \",\")\n",
    "            # get value\n",
    "            v = parse(Float64, info[3])\n",
    "            if v!= 0\n",
    "                push!(V, v)\n",
    "                # get row index\n",
    "                if !haskey(RowDict, info[1])\n",
    "                    numRows += 1\n",
    "                    RowDict[info[1]] = numRows\n",
    "                end\n",
    "                i = RowDict[info[1]]\n",
    "                push!(I, i)\n",
    "                # get column index\n",
    "                if !haskey(ColDict, info[2])\n",
    "                    numCols += 1\n",
    "                    ColDict[info[2]] = numCols\n",
    "                end\n",
    "                j = ColDict[info[2]]\n",
    "                push!(J, j)\n",
    "            end    \n",
    "        end\n",
    "        close(file)\n",
    "        X = sparse(I,J,V,numRows,numCols)\n",
    "        X ./= norm(X)\n",
    "        # low rank approximation\n",
    "        m, n = size(X)\n",
    "        r = 5\n",
    "        U, S, V = svds(X, nsv=r)[1]\n",
    "        Xopt = U*Diagonal(S)*V'\n",
    "        @show norm(Xopt - X) / norm(X)\n",
    "        # mask \n",
    "        p = 0.5\n",
    "        mask = sprand(Bool, m, n, p)\n",
    "        mask = convert(SparseMatrixCSC{Float64, Int64}, mask)\n",
    "        I,J,V = findnz(mask)\n",
    "        # measurement\n",
    "        b = Vector{Float64}()\n",
    "        bopt = Vector{Float64}()\n",
    "        l = length(I)\n",
    "        for t in 1:l\n",
    "            i, j = I[t], J[t]\n",
    "            push!(b, X[i,j])\n",
    "            push!(bopt, Xopt[i,j])\n",
    "        end\n",
    "        # optimal parameters\n",
    "        τ = sum(S)\n",
    "        z = b - bopt\n",
    "        α = norm(z)^2/2\n",
    "        Z = sparse(I, J, z)\n",
    "        λ = dot(Z, Xopt)/τ\n",
    "        return m, n, r, X, mask, b, α, τ, λ\n",
    "    elseif data == \"random\"\n",
    "        m, n, r = 100, 100, 3\n",
    "        X = rand(m, n)\n",
    "        U, S, V = svd(X)\n",
    "        X = U[:,1:r] * Diagonal( S[1:r] ) * V[:,1:r]'\n",
    "        # mask \n",
    "        p = 0.5\n",
    "        mask = sprand(Bool, m, n, p)\n",
    "        mask = convert(SparseMatrixCSC{Float64, Int64}, mask)\n",
    "        I,J,V = findnz(mask)\n",
    "        # measurement \n",
    "        b = Vector{Float64}()\n",
    "        l = length(I)\n",
    "        for t in 1:l\n",
    "            i, j = I[t], J[t]\n",
    "            push!(b, X[i,j])\n",
    "        end\n",
    "        η = rand(l)\n",
    "        ϵ = 1; η .*= (ϵ/norm(η))\n",
    "        η = zeros(l)\n",
    "        b .+= η\n",
    "        # optimal parameters\n",
    "        τ = sum(S[1:r])\n",
    "        α = norm(η)^2/2\n",
    "        Z = sparse(I, J, η)\n",
    "        λ = dot(Z, X)/τ\n",
    "        return m, n, r, X, mask, b, α, τ, λ\n",
    "    else\n",
    "        println(\"invalid data\")\n",
    "        return\n",
    "    end\n",
    "end"
   ]
  },
  {
   "cell_type": "code",
   "execution_count": 4,
   "id": "70098533",
   "metadata": {},
   "outputs": [
    {
     "name": "stdout",
     "output_type": "stream",
     "text": [
      "norm(Xopt - X) / norm(X) = 0.24679324943862013\n"
     ]
    }
   ],
   "source": [
    "m, n, r, Xopt, mask, b, αopt, τopt, λopt = load_data(\"temperature\");"
   ]
  },
  {
   "cell_type": "code",
   "execution_count": 5,
   "id": "6695057b",
   "metadata": {},
   "outputs": [
    {
     "data": {
      "text/plain": [
       "1.5381942604878027"
      ]
     },
     "execution_count": 5,
     "metadata": {},
     "output_type": "execute_result"
    }
   ],
   "source": [
    "τopt"
   ]
  },
  {
   "cell_type": "markdown",
   "id": "28a3c9f2",
   "metadata": {},
   "source": [
    "## Solve matrix completion problem"
   ]
  },
  {
   "cell_type": "code",
   "execution_count": 9,
   "id": "703dfaa3",
   "metadata": {},
   "outputs": [
    {
     "name": "stdout",
     "output_type": "stream",
     "text": [
      "\n",
      "  -------------------------------------------------------------------------\n",
      "  Polar Level Set Method\n",
      "  -------------------------------------------------------------------------\n",
      "  number of variables    2488068         number of constraints 1244460\n",
      "  feasibility tolerance  2.50e-05         α                    1.52e-02\n",
      "  max iterations            1000 \n",
      "  -------------------------------------------------------------------------\n",
      "  Major      Minor        u-α        ℓ-α        gap          τ         infeas-α  Subproblem\n",
      "      1          2   7.32e-02   4.47e-02   2.85e-02   5.44e-01       1.32e-02   suboptimal\n",
      "      2          2   3.62e-02   3.49e-02   1.31e-03   7.87e-01       1.22e-02   suboptimal\n",
      "      3          2   1.18e-02   6.96e-03   4.84e-03   1.07e+00       1.22e-02   suboptimal\n",
      "      4          4   6.37e-03   1.01e-03   5.36e-03   1.19e+00       1.22e-02   suboptimal\n",
      "      5          3   5.46e-03   3.01e-03   2.45e-03   1.21e+00       1.22e-02   suboptimal\n",
      "      6          6   3.01e-03   2.55e-05   2.98e-03   1.30e+00       1.22e-02   suboptimal\n",
      "      7          2   2.97e-03   1.71e-04   2.80e-03   1.30e+00       1.05e-02   suboptimal\n",
      "      8          1   2.81e-03   6.90e-04   2.12e-03   1.30e+00       1.05e-02   suboptimal\n",
      "      9          3   2.18e-03   4.89e-04   1.70e-03   1.33e+00       1.05e-02   suboptimal\n",
      "     10          4   1.73e-03   3.76e-04   1.36e-03   1.35e+00       1.05e-02   suboptimal\n",
      "     11          7   1.38e-03   2.12e-04   1.17e-03   1.36e+00       1.05e-02   suboptimal\n",
      "     12          4   1.18e-03   4.06e-04   7.70e-04   1.37e+00       1.05e-02   suboptimal\n",
      "     13         18   7.80e-04   8.65e-05   6.93e-04   1.39e+00       1.05e-02   suboptimal\n",
      "     14          6   6.94e-04   4.66e-05   6.48e-04   1.39e+00       8.82e-03   suboptimal\n",
      "     15          2   6.49e-04   7.20e-05   5.77e-04   1.39e+00       8.82e-03   suboptimal\n",
      "     16          4   5.78e-04   3.38e-05   5.44e-04   1.40e+00       8.82e-03   suboptimal\n",
      "     17          8   5.43e-04   3.34e-05   5.10e-04   1.40e+00       8.82e-03   suboptimal\n",
      "     18          3   5.10e-04   2.74e-05   4.83e-04   1.40e+00       8.82e-03   suboptimal\n",
      "     19          3   4.83e-04   3.71e-05   4.46e-04   1.40e+00       8.82e-03   suboptimal\n",
      "     20         24   4.42e-04   1.02e-04   3.40e-04   1.40e+00       8.82e-03   suboptimal\n",
      "     21         51   3.36e-04   2.53e-05   3.10e-04   1.41e+00       8.82e-03   suboptimal\n",
      "     22         32   3.08e-04   3.96e-05   2.68e-04   1.41e+00       8.82e-03   suboptimal\n",
      "     23        180   2.55e-04   2.99e-05   2.25e-04   1.41e+00       8.82e-03   suboptimal\n",
      "     24        629   1.94e-04   0.00e+00   1.94e-04   1.41e+00       8.82e-03   iterations\n",
      "  -------------------------------------------------------------------------\n",
      "  residual (abs)          2.2e-01         optimality gap (abs)   1.94e-04\n",
      "  residual (rel)          1.3e-01         optimality gap (rel)   1.14e-04\n",
      "  total iterations           1000                                        \n",
      "  -------------------------------------------------------------------------\n"
     ]
    }
   ],
   "source": [
    "Mop = MaskOP(mask)\n",
    "A = NucBall(m, n, r)\n",
    "dual_gaps = Vector{Float64}()\n",
    "pr_infeas = Vector{Float64}()\n",
    "sol = level_set(Mop, b, A; \n",
    "    α=αopt, tol=1e-2, maxIts=1000, τmax=τopt, dual_gaps=dual_gaps, infeas=pr_infeas);"
   ]
  },
  {
   "cell_type": "markdown",
   "id": "6328e246",
   "metadata": {},
   "source": [
    "## Report relative difference"
   ]
  },
  {
   "cell_type": "code",
   "execution_count": 20,
   "id": "98f56125",
   "metadata": {},
   "outputs": [
    {
     "name": "stdout",
     "output_type": "stream",
     "text": [
      "The relative difference between Xopt and X: 3.103530e-01 \n"
     ]
    }
   ],
   "source": [
    "x = constructPrimal(sol)\n",
    "X = reshape(x, m, n)\n",
    "@printf \"The relative difference between Xopt and X: %e \\n\" norm(Xopt - X)/norm(Xopt)"
   ]
  },
  {
   "cell_type": "markdown",
   "id": "a2261d07",
   "metadata": {},
   "source": [
    "## Print dual gap and infeas"
   ]
  },
  {
   "cell_type": "code",
   "execution_count": 24,
   "id": "15964496",
   "metadata": {},
   "outputs": [],
   "source": [
    "gaps = [5.44e-01, 7.87e-01, 1.07e+00, 1.19e+00, 1.21e+00, 1.30e+00, 1.30e+00, 1.30e+00, 1.33e+00, 1.35e+00, 1.36e+00, \n",
    "    1.37e+00, 1.39e+00, 1.39e+00, 1.39e+00, 1.40e+00, 1.40e+00, 1.40e+00, 1.40e+00, 1.40e+00, 1.41e+00, 1.41e+00,\n",
    "    1.41e+00, 1.41e+00]\n",
    "gaps = [τopt - g for g in gaps]\n",
    "gr(size=(500,400))\n",
    "rounds = collect(1:length(dual_gaps))\n",
    "p = plot(rounds, gaps, label=\"duality gap\", yaxis=:log, line=2)\n",
    "plot!(rounds, pr_infeas, label=\"recovery error\", yaxis=:log, line=2)\n",
    "xaxis!(\"iteration\", xtickfontsize=10)\n",
    "yaxis!(\"gap\", ytickfontsize=10)\n",
    "savefig(p,\"./matrix_completion.pdf\")"
   ]
  },
  {
   "cell_type": "code",
   "execution_count": 23,
   "id": "ebca9040",
   "metadata": {},
   "outputs": [
    {
     "data": {
      "text/plain": [
       "(6798, 366)"
      ]
     },
     "execution_count": 23,
     "metadata": {},
     "output_type": "execute_result"
    }
   ],
   "source": [
    "size(X)"
   ]
  },
  {
   "cell_type": "code",
   "execution_count": null,
   "id": "8d58cb72",
   "metadata": {},
   "outputs": [],
   "source": []
  }
 ],
 "metadata": {
  "kernelspec": {
   "display_name": "Julia 1.6.2",
   "language": "julia",
   "name": "julia-1.6"
  },
  "language_info": {
   "file_extension": ".jl",
   "mimetype": "application/julia",
   "name": "julia",
   "version": "1.6.2"
  }
 },
 "nbformat": 4,
 "nbformat_minor": 5
}
