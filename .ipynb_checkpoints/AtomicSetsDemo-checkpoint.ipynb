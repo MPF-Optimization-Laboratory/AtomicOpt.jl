{
 "cells": [
  {
   "cell_type": "code",
   "execution_count": 2,
   "metadata": {},
   "outputs": [
    {
     "name": "stderr",
     "output_type": "stream",
     "text": [
      "┌ Info: Precompiling AtomicOpt [top-level]\n",
      "└ @ Base loading.jl:1342\n"
     ]
    }
   ],
   "source": [
    "push!(LOAD_PATH, \"/Users/zhenanfan/Documents/GitHub/AtomicOpt.jl/\")\n",
    "using AtomicOpt\n",
    "using LinearAlgebra\n",
    "using Printf\n",
    "using Random"
   ]
  },
  {
   "cell_type": "markdown",
   "metadata": {},
   "source": [
    "# Linear Programming\n",
    "We consider a standard linear programming problem with positive cost:\n",
    "$$\\min_{x}\\enspace c^Tx + \\delta_{\\geq 0}(x) \\enspace\\mbox{s.t.}\\enspace Mx = b,$$\n",
    "where $c\\in\\mathbb{R}_{+}^n$, $M\\in\\mathbb{R}^{m\\times n}$, $b\\in\\mathbb{R}^m$ and $\\delta_{\\geq 0}$ is the indicator function for forcing non-negativeness. Note that the objective function is a gauge function $\\gamma_{\\mathcal{A}}$ with the atomic set \n",
    "$$A = \\begin{pmatrix} \\frac{1}{c_1} & &  \\\\ &\\ddots &  \\\\ & &\\frac{1}{c_n}\\end{pmatrix} \\Delta_n,$$\n",
    "where $\\Delta_n$ is the positive simplex. So the linear programming problem can be equivalently expressed as \n",
    "$$\\min_{x}\\enspace \\gamma_{\\mathcal{A}}(x) \\enspace\\mbox{s.t.}\\enspace \\|Mx - b\\| \\leq 0.$$"
   ]
  },
  {
   "cell_type": "code",
   "execution_count": 3,
   "metadata": {},
   "outputs": [
    {
     "data": {
      "text/plain": [
       "atomic set  : Map of Positive Simplex\n",
       "description : M ⋅ { x ∈ ℝⁿ | ⟨c, x⟩ ≤ 1, x ≥ 0}\n",
       "parameters  : n = 500"
      ]
     },
     "execution_count": 3,
     "metadata": {},
     "output_type": "execute_result"
    }
   ],
   "source": [
    "n = 500 # dimension of x\n",
    "m = 250 # number of equality constraints\n",
    "c = rand(n) + 0.5*ones(n) # create nonnegative cost vector\n",
    "x0 = abs.(randn(n)) # create random solution vector\n",
    "M = abs.(randn(m, n)) # create random, nonnegative matrix M\n",
    "b = M*x0\n",
    "A = Diagonal(ones(n)./c)*PosSimplex(n, maxrank=m) # create atomic set as scaled positive simplex"
   ]
  },
  {
   "cell_type": "code",
   "execution_count": 4,
   "metadata": {},
   "outputs": [
    {
     "ename": "LoadError",
     "evalue": "TypeError: in keyword argument α, expected Float64, got a value of type Int64",
     "output_type": "error",
     "traceback": [
      "TypeError: in keyword argument α, expected Float64, got a value of type Int64",
      "",
      "Stacktrace:",
      " [1] top-level scope",
      "   @ In[4]:1",
      " [2] eval",
      "   @ ./boot.jl:360 [inlined]",
      " [3] include_string(mapexpr::typeof(REPL.softscope), mod::Module, code::String, filename::String)",
      "   @ Base ./loading.jl:1116"
     ]
    }
   ],
   "source": [
    "x, ~ = level_set(M, b, A, α=0.0, tol=1e-5, maxIts=500000, logger=2)\n",
    "@printf(\"objective value = %8.2e, relative infeasibility = %8.2e\", c'*x, norm(M*x - b) / max(1.0, norm(b)))"
   ]
  },
  {
   "cell_type": "code",
   "execution_count": null,
   "metadata": {},
   "outputs": [],
   "source": []
  },
  {
   "cell_type": "markdown",
   "metadata": {},
   "source": [
    "## Compare with convex.jl"
   ]
  },
  {
   "cell_type": "code",
   "execution_count": 4,
   "metadata": {},
   "outputs": [
    {
     "name": "stderr",
     "output_type": "stream",
     "text": [
      "┌ Warning: Problem status ALMOST_OPTIMAL; solution may be inaccurate.\n",
      "└ @ Convex /Users/zhenanfan/.julia/packages/Convex/cKTOH/src/solution.jl:252\n"
     ]
    },
    {
     "name": "stdout",
     "output_type": "stream",
     "text": [
      "objective value = 3.39e+02, relative infeasibility = 3.49e-05"
     ]
    }
   ],
   "source": [
    "using Convex\n",
    "using SCS\n",
    "xcvx = Variable(n)\n",
    "problem = minimize(c'*xcvx, [M*xcvx == b, xcvx >= zeros(n)])\n",
    "solve!(problem,() -> SCS.Optimizer(verbose=0))\n",
    "obj = c'*xcvx.value; obj = obj[1]\n",
    "infeas = norm(M*xcvx.value - b) / max(1.0, norm(b)); infeas = infeas[1]\n",
    "@printf(\"objective value = %8.2e, relative infeasibility = %8.2e\", obj, infeas)"
   ]
  },
  {
   "cell_type": "markdown",
   "metadata": {},
   "source": [
    "# Variable selection and Regularization\n",
    "## Example: Leukemia classification\n",
    "* Leukemia Data, Golub et al. Science 1999.\n",
    "* There are 72 samples with 3571 genes.\n",
    "* Tumors type: AML or ALL."
   ]
  },
  {
   "cell_type": "code",
   "execution_count": 5,
   "metadata": {},
   "outputs": [],
   "source": [
    "using CSV\n",
    "using DataFrames\n",
    "# load data\n",
    "Data = CSV.read(\"./leukemia_small.csv\", header=0, DataFrame)\n",
    "Data = Matrix(Data)\n",
    "b = Data[1,:]\n",
    "M = Data[2:end, :]'\n",
    "# training set \n",
    "Mtrain = M[1:50, :]\n",
    "btrain = b[1:50]\n",
    "m, n = size(Mtrain)\n",
    "# test set\n",
    "Mtest = M[51:end, :]\n",
    "btest = b[51:end];"
   ]
  },
  {
   "cell_type": "markdown",
   "metadata": {},
   "source": [
    "# LASSO\n",
    "The LASSO model is the linear regression with L1 regularization. Specifically, the LASSO solves the following optimiztaion problem:\n",
    "$$\\min_{x}\\enspace \\|x\\|_1 \\enspace\\mbox{s.t.}\\enspace\\frac{1}{2m}\\|Mx - b\\|^2 \\leq \\tau,$$\n",
    "* $M\\in\\mathbb{R}^{m\\times n}$ is the data matrix with $m$ samples and $n$ features;\n",
    "* $b\\in\\mathbb{R}^m$ is the label vector."
   ]
  },
  {
   "cell_type": "code",
   "execution_count": 6,
   "metadata": {},
   "outputs": [
    {
     "name": "stdout",
     "output_type": "stream",
     "text": [
      "\n",
      "  -------------------------------------------------------------------------\n",
      "  Polar Level Set Method\n",
      "  -------------------------------------------------------------------------\n",
      "  number of variables       3571         optimality           8.07e-06\n",
      "  number of constraints       50         feasibility          8.07e-06\n",
      "  max duCG iterations     100000         α                    1.00e+01\n",
      "  -------------------------------------------------------------------------\n",
      "  Major        Gap        Tau  Feasible\n",
      "  -------------------------------------------------------------------------\n",
      "  residual (rel)          2.6e-02         optimality gap (rel)   9.73e-08\n",
      "  -------------------------------------------------------------------------\n",
      "test classification rate for lasso = 9.55e-01"
     ]
    }
   ],
   "source": [
    "A = OneBall(n)\n",
    "τ = 10\n",
    "x_lasso, ~ = level_set(Mtrain, btrain, A, α=τ, tol=1e-6, maxIts=100000, logger=1)\n",
    "# test the performance on the test set\n",
    "b_lasso = sign.(Mtest*x_lasso)\n",
    "num = 0\n",
    "for i in 1:length(btest)\n",
    "    if b_lasso[i] == btest[i]\n",
    "        num += 1\n",
    "    end\n",
    "end\n",
    "classification_rate_lasso = num / length(btest)\n",
    "@printf(\"test classification rate for lasso = %8.2e\", classification_rate_lasso)"
   ]
  },
  {
   "cell_type": "markdown",
   "metadata": {},
   "source": [
    "# Elastic Net Regression\n",
    "The elastic net regression model is the linear regression with combined L1 and L2 priors as regularizer. Specifically, the elastic net regression solves the following optimiztaion problem:\n",
    "$$\\min_{x}\\enspace \\frac{1}{2m}\\|Mx - b\\|^2 + \\alpha\\|x\\|_1 + \\beta\\|x\\|_2^2,$$\n",
    "where\n",
    "* $M\\in\\mathbb{R}^{m\\times n}$ is the data matrix with $m$ samples and $n$ features;\n",
    "* $b\\in\\mathbb{R}^m$ is the label vector."
   ]
  },
  {
   "cell_type": "code",
   "execution_count": 7,
   "metadata": {},
   "outputs": [
    {
     "name": "stdout",
     "output_type": "stream",
     "text": [
      "test classification rate for elastic net = 9.55e-01"
     ]
    }
   ],
   "source": [
    "using Convex\n",
    "using SCS\n",
    "α = 0.5\n",
    "β = 0.5\n",
    "xcvx = Variable(n)\n",
    "problem = minimize(square(norm(Mtrain*xcvx - btrain))/(2*m) + α*norm(xcvx, 1) + β*square(norm(xcvx)))\n",
    "solve!(problem, () -> SCS.Optimizer(verbose=0))\n",
    "b_elastic = sign.(Mtest*xcvx.value)\n",
    "num = 0\n",
    "for i in 1:length(btest)\n",
    "    if b_elastic[i] == btest[i]\n",
    "        num += 1\n",
    "    end\n",
    "end\n",
    "classification_rate_elastic = num / length(btest)\n",
    "@printf(\"test classification rate for elastic net = %8.2e\", classification_rate_elastic)"
   ]
  },
  {
   "cell_type": "markdown",
   "metadata": {},
   "source": [
    "# Combine atomic sets\n",
    "Instead of combining regularizers, we can also combine the atomic sets. Let $\\mathcal{A}_1$ be the L1 norm ball and $\\mathcal{A}_2$ be the L2 norm ball, then we can define the combined atomic set as $\\mathcal{A} := \\mathcal{A}_1 + \\lambda\\mathcal{A}_2$ with $\\lambda$ being the balancing parameter. Then we can solve the following problem\n",
    "$$\\min_{x}\\enspace \\gamma_{\\mathcal{A}}(x) \\enspace\\mbox{s.t.}\\enspace \\frac{1}{2m}\\|Mx - b\\|^2 \\leq \\tau.$$"
   ]
  },
  {
   "cell_type": "code",
   "execution_count": 8,
   "metadata": {},
   "outputs": [
    {
     "name": "stdout",
     "output_type": "stream",
     "text": [
      "\n",
      "  -------------------------------------------------------------------------\n",
      "  Polar Level Set Method\n",
      "  -------------------------------------------------------------------------\n",
      "  number of variables       3571         optimality           8.07e-06\n",
      "  number of constraints       50         feasibility          8.07e-06\n",
      "  max duCG iterations     100000         α                    1.00e+01\n",
      "  -------------------------------------------------------------------------\n",
      "  Major      Minor        u-α        ℓ-α        Gap        Tau  Feasible  Subproblem\n",
      "      1          2   2.99e+00   2.36e+00   6.27e-01   3.18e-01   9.48e-01   suboptimal\n",
      "      2          1   8.86e-01   6.44e-01   2.41e-01   3.92e-01   4.60e-01   suboptimal\n",
      "      3          1   2.88e-01   1.89e-01   9.88e-02   4.15e-01   3.84e-01   suboptimal\n",
      "      4          1   1.08e-01   2.88e-02   7.91e-02   4.22e-01   2.60e-01   suboptimal\n",
      "      5          2   3.05e-02   9.44e-02   -6.40e-02   4.23e-01   5.77e-02   optimal\n",
      "      6          1   -5.96e-02   3.03e-03   -6.26e-02   4.27e-01   2.88e-02   feasible\n",
      "  -------------------------------------------------------------------------\n",
      "  residual (abs)          2.9e-02         optimality gap (abs)   -6.26e-02\n",
      "  residual (rel)          3.6e-03         optimality gap (rel)   -7.76e-03\n",
      "  total iterations              8                                        \n",
      "  -------------------------------------------------------------------------\n",
      "test classification rate for polar convolution = 9.55e-01"
     ]
    }
   ],
   "source": [
    "λ = 0.01\n",
    "A = OneBall(n) + λ*TwoBall(n)\n",
    "τ = 10\n",
    "x_polar, ~ = level_set(Mtrain, btrain, A, α = τ, tol = 1e-6, maxIts=100000)\n",
    "b_polar = sign.(Mtest*x_polar)\n",
    "num = 0\n",
    "for i in 1:length(btest)\n",
    "    if b_polar[i] == btest[i]\n",
    "        num += 1\n",
    "    end\n",
    "end\n",
    "classification_rate_polar = num / length(btest)\n",
    "@printf(\"test classification rate for polar convolution = %8.2e\", classification_rate_polar)"
   ]
  },
  {
   "cell_type": "markdown",
   "metadata": {},
   "source": [
    "# Evaluate the gauge value"
   ]
  },
  {
   "cell_type": "code",
   "execution_count": 9,
   "metadata": {},
   "outputs": [
    {
     "data": {
      "text/plain": [
       "Plots.PyPlotBackend()"
      ]
     },
     "execution_count": 9,
     "metadata": {},
     "output_type": "execute_result"
    }
   ],
   "source": [
    "using Plots;pyplot()"
   ]
  },
  {
   "cell_type": "code",
   "execution_count": 10,
   "metadata": {},
   "outputs": [
    {
     "data": {
      "text/plain": [
       "gauge (generic function with 1 method)"
      ]
     },
     "execution_count": 10,
     "metadata": {},
     "output_type": "execute_result"
    }
   ],
   "source": [
    "function gauge(A::SumAtomicSet, x::Vector{Float64})\n",
    "    n = length(x)\n",
    "    ~, τ = level_set(I(n), x, A, α = 0, tol = 1e-12, maxIts=10000, pr=false, logger=0)\n",
    "    return τ\n",
    "end"
   ]
  },
  {
   "cell_type": "code",
   "execution_count": 11,
   "metadata": {},
   "outputs": [],
   "source": [
    "n = 2\n",
    "λ = 1\n",
    "A = OneBall(n) + λ*TwoBall(n)\n",
    "x = y = -2.5:.01:2.5\n",
    "z = Surface( (x,y)->gauge(A, [x;y]), x, y );"
   ]
  },
  {
   "cell_type": "code",
   "execution_count": 12,
   "metadata": {},
   "outputs": [
    {
     "data": {
      "image/png": "[encoded data removed]"
     },
     "execution_count": 12,
     "metadata": {},
     "output_type": "execute_result"
    }
   ],
   "source": [
    "levels = collect(0:.25:2)\n",
    "blacklines=cgrad([:black,:black])\n",
    "xt,xl = ([-2,-1,0,1,2],[\"-2\",\"-1\",\"0\",\"+1\",\"+2\"])\n",
    "yt,yl = ([-2,-1,0,1,2],[\"-2\",\"-1\",\"0\",\"+1\",\"+2\"])\n",
    "nlab = [\"\",\"\",\"\",\"\",\"\"]\n",
    "plot(contour(x,y,z,levels=collect(0:.25:1),legend=false,border=false,c=blacklines,yticks=(yt,nlab)),aspect_ratio=1,ylims=(-2.5,2.5),xlims=(-2.5,2.5),xticks=(xt,xl),w=2)"
   ]
  },
  {
   "cell_type": "code",
   "execution_count": null,
   "metadata": {},
   "outputs": [],
   "source": []
  }
 ],
 "metadata": {
  "kernelspec": {
   "display_name": "Julia 1.6.2",
   "language": "julia",
   "name": "julia-1.6"
  },
  "language_info": {
   "file_extension": ".jl",
   "mimetype": "application/julia",
   "name": "julia",
   "version": "1.6.2"
  }
 },
 "nbformat": 4,
 "nbformat_minor": 2
}
